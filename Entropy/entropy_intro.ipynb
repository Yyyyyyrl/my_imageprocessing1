{
 "cells": [
  {
   "cell_type": "markdown",
   "metadata": {},
   "source": [
    "# Entropy, Compression, and Huffman Variable Length Encoding\n",
    "stough 202-\n",
    "\n",
    "Images and videos can be quite large. At 60 frames per second, a 4K Ultra HD movie of 2 hours could require \n",
    "\n",
    "\\begin{equation*}\n",
    "((3840\\cdot2160)pixels \\cdot 3\\frac{byte}{pixel} = 24883200 \\frac{byte}{frame}\\\\\n",
    "\\frac{24883200 \\frac{byte}{frame}\\cdot60\\frac{frame}{second}\\cdot60\\frac{second}{minute}\\cdot120 minutes}{10^9\\frac{byte}{GB}} = 10749.5 GB,\n",
    "\\end{equation*}\n",
    "\n",
    "or about 163 blu-ray discs to store without compression. So clearly compression is a thing. \n",
    "\n",
    "Compression takes advantage of different kinds of redundancy in the signal. Images in particular have a lot of redundancy. Spatial and Temporal redundancy are characterized by the fact that most pixels are closely related their neighbors. This is due to the fact that any images of human interest are likely to have objects comprised of regions of similar color. *Temporal* redundancy is the video case, where a pixel over time changes little usually. \n",
    "\n",
    "Coding redundancy is the one we're dealing with here. Most images we consider are 3-channel images with 8 bits per pixel per channel. We need 8 bits to represent a value in $[0, 255]$. Variable-length encoding can take advantage of the differential frequency of certain pixel values over others, encoding more common pixels with fewer bits, and paying that off by using more bits to represent less common pixels.\n",
    "\n",
    "- **Compressibility**: The degree to which the information in an image or video can be represented using fewer bits. In the example above of the highly compressible 4K Ultra HD, we might say the *compression ratio* is ~160 (display size over storage size). \n",
    "- **Entropy**: a measure of the information content in a signal. \n",
    "    - signal: here, think of this as seeing each individual pixel in the image in order.\n",
    "    - Think of entropy as the surprise, or \"unpredictability\" of the signal. Each new pixel value $k$ in the signal gives you some information,\n",
    "    \\begin{equation*}\n",
    "    I(k) = -\\log_2(p(k)),\n",
    "    \\end{equation*}\n",
    "    where $p(k)$ is the probability of observing $k$ in the signal. For example, if the probability of observing $k$ is 1, as in 100\\% of all the pixels have the value $k$, then there is no information/surpise, or 0 bits, associated with observing it. If $p(k) = \\frac{1}{2}$, then that's 1 bit of information. (We won't consider the symbols $\\kappa$ that *never* show up, since observing such a symbol would be infinitely surprising :-). \n",
    "    - For our images in the range $[0, 255]$, we can measure the entropy or information content of the image as \n",
    "    \\begin{equation*}\n",
    "    \\tilde{H} = -\\sum_{k=0}^{255} p(k)\\log_{2}p(k)\n",
    "    \\end{equation*}\n",
    "    This is just an average of how many bits of information each newly observed pixel gives us, weighted by how likely that pixel value is. $p(k)$ is just the normalized histogram values.\n",
    "    \n",
    "In this notebook we'll explore Huffman variable-length encoding its effectiveness in some images."
   ]
  },
  {
   "cell_type": "markdown",
   "metadata": {},
   "source": [
    "## Imports\n",
    "Notice I've added our own custom Huffman utilities `huff_utils` and [`scipy.stats.entropy`](https://docs.scipy.org/doc/scipy/reference/generated/scipy.stats.entropy.html). Study `build_huff_tree` in particular."
   ]
  },
  {
   "cell_type": "code",
   "execution_count": 1,
   "metadata": {},
   "outputs": [],
   "source": [
    "%matplotlib widget\n",
    "import matplotlib.pyplot as plt\n",
    "import numpy as np\n",
    "import matplotlib.colors as mcolors\n",
    "import skimage.color as color\n",
    "from ipywidgets import VBox, HBox, FloatLogSlider\n",
    "from scipy.stats import entropy\n",
    "\n",
    "# For importing from alternative directory sources\n",
    "import sys  \n",
    "sys.path.insert(0, '../dip_utils')\n",
    "\n",
    "\n",
    "from huff_utils import (build_huff_tree,\n",
    "                        build_huff_encoder,\n",
    "                        build_huff_pair,\n",
    "                        load_huffable_image,\n",
    "                        test_tree_making)\n",
    "from matrix_utils import (arr_info,\n",
    "                          make_linmap)\n",
    "from vis_utils import (vis_rgb_cube,\n",
    "                       vis_hsv_cube,\n",
    "                       vis_hists,\n",
    "                       vis_pair,\n",
    "                       lab_uniform)"
   ]
  },
  {
   "cell_type": "markdown",
   "metadata": {},
   "source": [
    "## Huffman Trees\n",
    "A Huffman tree is a binary tree structure whose leaf nodes represent the symbols in a signal (the pixel values in an image). The path from the root of the tree to a leaf node represents the bit encoding of the associated symbol (0 for left child, 1 for right child, for example). Let's see an example"
   ]
  },
  {
   "cell_type": "code",
   "execution_count": 2,
   "metadata": {},
   "outputs": [
    {
     "name": "stdout",
     "output_type": "stream",
     "text": [
      "Before heapify...\n",
      "[node: freq 427: A]\n",
      "[node: freq 77: B]\n",
      "[node: freq 148: C]\n",
      "[node: freq 177: D]\n",
      "\n",
      "After heapify...\n",
      "[node: freq 77: B]\n",
      "[node: freq 177: D]\n",
      "[node: freq 148: C]\n",
      "[node: freq 427: A]\n",
      "Final Huffman tree:\n",
      "\n",
      "    --[node: freq 177: D]\n",
      "  --[node: freq 402: ]\n",
      "      --[node: freq 77: B]\n",
      "    --[node: freq 225: ]\n",
      "      --[node: freq 148: C]\n",
      "--[node: freq 829: ]\n",
      "  --[node: freq 427: A]\n"
     ]
    }
   ],
   "source": [
    "test_tree_making()"
   ]
  },
  {
   "cell_type": "markdown",
   "metadata": {},
   "source": [
    "In the example above we start with pixel values in ['A', 'B', 'C', 'D']. The Huffman Tree construction algorithm basically sorts these from least to most frequent (a heap is useful for this) as a list of leaf nodes. \n",
    "\n",
    "- We then take the two least frequent nodes and combine them into one Huffman tree with the two pixel values as leaf nodes and the frequency associated with this tree as the sum of the two individual frequencies. \n",
    "- Then insert this tree back into the list. This is where a heap comes in useful, as a self-maintaining structure always providing access to the least frequent node. \n",
    "- Repeat. Each iteration we end up with one fewer in the list, until there is only one tree left. \n",
    "\n",
    "The structure of that final tree represents an optimal encoding given the relative frequencies provided."
   ]
  },
  {
   "cell_type": "markdown",
   "metadata": {},
   "source": [
    "### Let's look at the entropy of an image."
   ]
  },
  {
   "cell_type": "code",
   "execution_count": 52,
   "metadata": {},
   "outputs": [
    {
     "name": "stdout",
     "output_type": "stream",
     "text": [
      "loadHuffableImage: input is multi-channel, using grayscale.\n",
      "loadHuffableImage: Setting range to [0, 255]\n"
     ]
    }
   ],
   "source": [
    "I = plt.imread('../dip_pics/happy128.png')\n",
    "Ih = load_huffable_image(I)"
   ]
  },
  {
   "cell_type": "code",
   "execution_count": 53,
   "metadata": {},
   "outputs": [
    {
     "name": "stdout",
     "output_type": "stream",
     "text": [
      "loadHuffableImage: input is multi-channel, using grayscale.\n",
      "loadHuffableImage: Setting range to [0, 255]\n"
     ]
    }
   ],
   "source": [
    "Ih = load_huffable_image('../dip_pics/happy128.png')"
   ]
  },
  {
   "cell_type": "code",
   "execution_count": 54,
   "metadata": {},
   "outputs": [
    {
     "data": {
      "text/plain": [
       "((128, 128), dtype('uint8'), 0, 255)"
      ]
     },
     "execution_count": 54,
     "metadata": {},
     "output_type": "execute_result"
    }
   ],
   "source": [
    "arr_info(Ih)"
   ]
  },
  {
   "cell_type": "code",
   "execution_count": 55,
   "metadata": {},
   "outputs": [
    {
     "data": {
      "application/vnd.jupyter.widget-view+json": {
       "model_id": "c8897dc511b44d3eb7675ef931d4da8d",
       "version_major": 2,
       "version_minor": 0
      },
      "text/plain": [
       "Canvas(toolbar=Toolbar(toolitems=[('Home', 'Reset original view', 'home', 'home'), ('Back', 'Back to previous …"
      ]
     },
     "metadata": {},
     "output_type": "display_data"
    },
    {
     "data": {
      "text/plain": [
       "<matplotlib.image.AxesImage at 0x7fe08c9dff28>"
      ]
     },
     "execution_count": 55,
     "metadata": {},
     "output_type": "execute_result"
    }
   ],
   "source": [
    "plt.figure(figsize=(4,4))\n",
    "plt.imshow(Ih, cmap='gray', interpolation=None)"
   ]
  },
  {
   "cell_type": "code",
   "execution_count": 56,
   "metadata": {},
   "outputs": [
    {
     "data": {
      "application/vnd.jupyter.widget-view+json": {
       "model_id": "1e3e4aaa6d8249d48fba13e03ea4c374",
       "version_major": 2,
       "version_minor": 0
      },
      "text/plain": [
       "Canvas(toolbar=Toolbar(toolitems=[('Home', 'Reset original view', 'home', 'home'), ('Back', 'Back to previous …"
      ]
     },
     "metadata": {},
     "output_type": "display_data"
    }
   ],
   "source": [
    "vis_hists(I)"
   ]
  },
  {
   "cell_type": "code",
   "execution_count": 57,
   "metadata": {},
   "outputs": [
    {
     "data": {
      "text/plain": [
       "131072"
      ]
     },
     "execution_count": 57,
     "metadata": {},
     "output_type": "execute_result"
    }
   ],
   "source": [
    "# How many bits would we need?\n",
    "8*np.prod(Ih.shape)"
   ]
  },
  {
   "cell_type": "code",
   "execution_count": 58,
   "metadata": {},
   "outputs": [],
   "source": [
    "bins = np.arange(257)\n",
    "freq, bins = np.histogram(Ih.ravel(), bins=bins)"
   ]
  },
  {
   "cell_type": "code",
   "execution_count": 59,
   "metadata": {},
   "outputs": [
    {
     "data": {
      "text/plain": [
       "3.749747928998133"
      ]
     },
     "execution_count": 59,
     "metadata": {},
     "output_type": "execute_result"
    }
   ],
   "source": [
    "# What's the average actual information per pixel in the image?\n",
    "entropy(freq, base=2)"
   ]
  },
  {
   "cell_type": "code",
   "execution_count": 70,
   "metadata": {},
   "outputs": [],
   "source": [
    "freq = freq/freq.max()"
   ]
  },
  {
   "cell_type": "code",
   "execution_count": 71,
   "metadata": {},
   "outputs": [
    {
     "name": "stdout",
     "output_type": "stream",
     "text": [
      "-6.687250568919806\n"
     ]
    }
   ],
   "source": [
    "probsum = 0\n",
    "for f in freq:\n",
    "    if f > np.finfo(float).eps:\n",
    "        probsum += f*np.log2(f)\n",
    "print(probsum)"
   ]
  },
  {
   "cell_type": "code",
   "execution_count": null,
   "metadata": {},
   "outputs": [],
   "source": []
  },
  {
   "cell_type": "markdown",
   "metadata": {},
   "source": [
    "## Build encoder and decoder dictionaries.\n",
    "See the code in `huff_utils`. One thing you'll notice about the encoder is that a lot of pixel values require many more than even 8 bits!!! How could that possibly save space?  "
   ]
  },
  {
   "cell_type": "code",
   "execution_count": 60,
   "metadata": {},
   "outputs": [],
   "source": [
    "encoder, decoder = build_huff_pair(Ih)"
   ]
  },
  {
   "cell_type": "code",
   "execution_count": 61,
   "metadata": {},
   "outputs": [
    {
     "data": {
      "text/plain": [
       "{217: '11',\n",
       " 0: '101',\n",
       " 23: '10011111111',\n",
       " 51: '10011111110',\n",
       " 188: '10011111101',\n",
       " 158: '100111111001',\n",
       " 166: '100111111000',\n",
       " 183: '100111110111',\n",
       " 92: '100111110110',\n",
       " 185: '100111110101',\n",
       " 126: '100111110100',\n",
       " 176: '10011111001',\n",
       " 177: '10011111000',\n",
       " 171: '100111101111',\n",
       " 175: '100111101110',\n",
       " 99: '10011110110',\n",
       " 103: '100111101011',\n",
       " 218: '100111101010',\n",
       " 189: '10011110100',\n",
       " 228: '100111100111',\n",
       " 117: '100111100110',\n",
       " 109: '10011110010',\n",
       " 54: '10011110001',\n",
       " 250: '10011110000',\n",
       " 12: '1001110111',\n",
       " 65: '10011101101',\n",
       " 66: '10011101100',\n",
       " 202: '1001110101',\n",
       " 178: '10011101001',\n",
       " 90: '100111010001',\n",
       " 45: '100111010000',\n",
       " 14: '1001110011',\n",
       " 219: '100111001011',\n",
       " 110: '100111001010',\n",
       " 111: '100111001001',\n",
       " 224: '100111001000',\n",
       " 128: '100111000',\n",
       " 215: '100110111',\n",
       " 142: '100110110111',\n",
       " 155: '100110110110',\n",
       " 245: '10011011010',\n",
       " 26: '1001101100',\n",
       " 172: '10011010',\n",
       " 187: '10011001111',\n",
       " 191: '10011001110',\n",
       " 55: '10011001101',\n",
       " 56: '10011001100',\n",
       " 41: '10011001011',\n",
       " 84: '10011001010',\n",
       " 16: '1001100100',\n",
       " 153: '10011000111',\n",
       " 78: '10011000110',\n",
       " 200: '10011000101',\n",
       " 102: '10011000100',\n",
       " 248: '10011000011',\n",
       " 118: '100110000101',\n",
       " 129: '100110000100',\n",
       " 197: '10011000001',\n",
       " 24: '10011000000',\n",
       " 170: '10010111111',\n",
       " 86: '10010111110',\n",
       " 181: '10010111101',\n",
       " 91: '10010111100',\n",
       " 194: '10010111011',\n",
       " 29: '10010111010',\n",
       " 107: '10010111001',\n",
       " 53: '10010111000',\n",
       " 160: '10010110111',\n",
       " 80: '10010110110',\n",
       " 67: '1001011010',\n",
       " 130: '10010110011',\n",
       " 122: '10010110010',\n",
       " 40: '1001011000',\n",
       " 3: '10010101',\n",
       " 216: '10010100',\n",
       " 4: '100100111',\n",
       " 25: '1001001101',\n",
       " 68: '10010011001',\n",
       " 139: '10010011000',\n",
       " 50: '1001001011',\n",
       " 105: '10010010101',\n",
       " 113: '100100101001',\n",
       " 233: '100100101000',\n",
       " 17: '1001001001',\n",
       " 43: '10010010001',\n",
       " 98: '10010010000',\n",
       " 173: '1001000111',\n",
       " 79: '100100011011',\n",
       " 161: '100100011010',\n",
       " 157: '10010001100',\n",
       " 212: '100100010',\n",
       " 162: '10010000111',\n",
       " 96: '100100001101',\n",
       " 112: '100100001100',\n",
       " 27: '1001000010',\n",
       " 62: '1001000001',\n",
       " 131: '10010000001',\n",
       " 133: '10010000000',\n",
       " 114: '10001111111',\n",
       " 116: '10001111110',\n",
       " 100: '1000111110111',\n",
       " 222: '1000111110110',\n",
       " 74: '100011111010',\n",
       " 232: '1000111110011',\n",
       " 236: '1000111110010',\n",
       " 120: '1000111110001',\n",
       " 123: '1000111110000',\n",
       " 235: '10001111011',\n",
       " 85: '1000111101011',\n",
       " 97: '1000111101010',\n",
       " 223: '1000111101001',\n",
       " 229: '1000111101000',\n",
       " 193: '1000111100',\n",
       " 21: '1000111011',\n",
       " 205: '1000111010',\n",
       " 134: '10001110011',\n",
       " 135: '10001110010',\n",
       " 59: '10001110001',\n",
       " 124: '10001110000',\n",
       " 46: '10001101',\n",
       " 143: '10001100111',\n",
       " 184: '100011001101',\n",
       " 95: '100011001100',\n",
       " 36: '10001100101',\n",
       " 151: '100011001001',\n",
       " 152: '100011001000',\n",
       " 198: '1000110001',\n",
       " 186: '1000110000',\n",
       " 136: '10001011',\n",
       " 253: '1000101011',\n",
       " 32: '1000101010',\n",
       " 213: '100010100',\n",
       " 246: '10001001111',\n",
       " 156: '10001001110',\n",
       " 35: '1000100110',\n",
       " 141: '10001001011',\n",
       " 144: '10001001010',\n",
       " 94: '10001001001',\n",
       " 192: '10001001000',\n",
       " 101: '10001000111',\n",
       " 52: '10001000110',\n",
       " 127: '10001000101',\n",
       " 33: '10001000100',\n",
       " 154: '10001000011',\n",
       " 77: '10001000010',\n",
       " 19: '10001000001',\n",
       " 164: '10001000000',\n",
       " 214: '10000',\n",
       " 255: '01',\n",
       " 63: '001',\n",
       " 249: '000111111111',\n",
       " 132: '000111111110',\n",
       " 244: '00011111110',\n",
       " 13: '0001111110',\n",
       " 57: '00011111011',\n",
       " 231: '00011111010',\n",
       " 106: '00011111001',\n",
       " 226: '00011111000',\n",
       " 179: '00011110111',\n",
       " 180: '00011110110',\n",
       " 89: '0001111010',\n",
       " 83: '00011110011',\n",
       " 87: '00011110010',\n",
       " 38: '0001111000',\n",
       " 140: '00011101',\n",
       " 72: '00011100111',\n",
       " 146: '00011100110',\n",
       " 148: '00011100101',\n",
       " 150: '00011100100',\n",
       " 20: '000111000',\n",
       " 1: '0001101',\n",
       " 7: '000110011',\n",
       " 61: '0001100101',\n",
       " 243: '00011001001',\n",
       " 70: '00011001000',\n",
       " 6: '000110001',\n",
       " 49: '0001100001',\n",
       " 209: '0001100000',\n",
       " 8: '000101111',\n",
       " 242: '00010111011',\n",
       " 227: '000101110101',\n",
       " 234: '000101110100',\n",
       " 119: '000101110011',\n",
       " 121: '000101110010',\n",
       " 221: '000101110001',\n",
       " 225: '000101110000',\n",
       " 230: '00010110111',\n",
       " 237: '00010110110',\n",
       " 206: '0001011010',\n",
       " 167: '00010110011',\n",
       " 174: '00010110010',\n",
       " 241: '00010110001',\n",
       " 145: '000101100001',\n",
       " 149: '000101100000',\n",
       " 39: '00010101111',\n",
       " 81: '00010101110',\n",
       " 88: '00010101101',\n",
       " 190: '00010101100',\n",
       " 58: '0001010101',\n",
       " 147: '0001010100',\n",
       " 208: '000101001',\n",
       " 238: '00010100011',\n",
       " 240: '00010100010',\n",
       " 104: '00010100001',\n",
       " 239: '00010100000',\n",
       " 28: '0001001111',\n",
       " 22: '0001001110',\n",
       " 64: '0001001101',\n",
       " 137: '0001001100',\n",
       " 5: '00010010',\n",
       " 44: '0001000111',\n",
       " 203: '0001000110',\n",
       " 163: '00010001011',\n",
       " 165: '00010001010',\n",
       " 182: '0001000100',\n",
       " 37: '000100001111',\n",
       " 75: '000100001110',\n",
       " 108: '000100001101',\n",
       " 220: '000100001100',\n",
       " 247: '0001000010',\n",
       " 11: '000100000',\n",
       " 2: '000011',\n",
       " 30: '0000101111',\n",
       " 76: '0000101110',\n",
       " 196: '00001011011',\n",
       " 204: '00001011010',\n",
       " 60: '0000101100',\n",
       " 254: '000010101',\n",
       " 10: '000010100',\n",
       " 252: '000010011',\n",
       " 48: '000010010',\n",
       " 73: '00001000111',\n",
       " 159: '00001000110',\n",
       " 31: '0000100010',\n",
       " 71: '0000100001',\n",
       " 199: '0000100000',\n",
       " 15: '0000011',\n",
       " 47: '0000010111',\n",
       " 201: '0000010110',\n",
       " 195: '0000010101',\n",
       " 125: '0000010100',\n",
       " 82: '0000010011',\n",
       " 168: '0000010010',\n",
       " 69: '0000010001',\n",
       " 34: '0000010000',\n",
       " 169: '0000001111',\n",
       " 42: '0000001110',\n",
       " 115: '0000001101',\n",
       " 251: '0000001100',\n",
       " 93: '0000001011',\n",
       " 138: '0000001010',\n",
       " 18: '000000100',\n",
       " 211: '000000011',\n",
       " 9: '000000010',\n",
       " 210: '000000001',\n",
       " 207: '000000000'}"
      ]
     },
     "execution_count": 61,
     "metadata": {},
     "output_type": "execute_result"
    }
   ],
   "source": [
    "encoder"
   ]
  },
  {
   "cell_type": "code",
   "execution_count": 62,
   "metadata": {},
   "outputs": [],
   "source": [
    "# Let's encode the image.\n",
    "enIh = ''.join([encoder[pix] for pix in Ih.ravel()])"
   ]
  },
  {
   "cell_type": "code",
   "execution_count": 73,
   "metadata": {},
   "outputs": [
    {
     "data": {
      "text/plain": [
       "'01010101010101010101'"
      ]
     },
     "execution_count": 73,
     "metadata": {},
     "output_type": "execute_result"
    }
   ],
   "source": [
    "enIh[:20]"
   ]
  },
  {
   "cell_type": "code",
   "execution_count": 63,
   "metadata": {},
   "outputs": [
    {
     "data": {
      "text/plain": [
       "61771"
      ]
     },
     "execution_count": 63,
     "metadata": {},
     "output_type": "execute_result"
    }
   ],
   "source": [
    "len(enIh)"
   ]
  },
  {
   "cell_type": "code",
   "execution_count": 64,
   "metadata": {},
   "outputs": [
    {
     "data": {
      "text/plain": [
       "131072"
      ]
     },
     "execution_count": 64,
     "metadata": {},
     "output_type": "execute_result"
    }
   ],
   "source": [
    "8*np.prod(Ih.shape)"
   ]
  },
  {
   "cell_type": "code",
   "execution_count": 65,
   "metadata": {},
   "outputs": [
    {
     "data": {
      "text/plain": [
       "2.121901863333927"
      ]
     },
     "execution_count": 65,
     "metadata": {},
     "output_type": "execute_result"
    }
   ],
   "source": [
    "# Compression ratio: old bits to new bits needed.\n",
    "8*np.prod(Ih.shape)/len(enIh)"
   ]
  },
  {
   "cell_type": "code",
   "execution_count": 66,
   "metadata": {},
   "outputs": [
    {
     "data": {
      "text/plain": [
       "3.77020263671875"
      ]
     },
     "execution_count": 66,
     "metadata": {},
     "output_type": "execute_result"
    }
   ],
   "source": [
    "# Bits per pixel we're actually using; compare to entropy determined above.\n",
    "len(enIh)/np.prod(Ih.shape)"
   ]
  },
  {
   "cell_type": "code",
   "execution_count": null,
   "metadata": {},
   "outputs": [],
   "source": []
  },
  {
   "cell_type": "code",
   "execution_count": null,
   "metadata": {},
   "outputs": [],
   "source": []
  },
  {
   "cell_type": "code",
   "execution_count": null,
   "metadata": {},
   "outputs": [],
   "source": []
  },
  {
   "cell_type": "code",
   "execution_count": null,
   "metadata": {},
   "outputs": [],
   "source": []
  }
 ],
 "metadata": {
  "kernelspec": {
   "display_name": "Python 3",
   "language": "python",
   "name": "python3"
  },
  "language_info": {
   "codemirror_mode": {
    "name": "ipython",
    "version": 3
   },
   "file_extension": ".py",
   "mimetype": "text/x-python",
   "name": "python",
   "nbconvert_exporter": "python",
   "pygments_lexer": "ipython3",
   "version": "3.7.3"
  }
 },
 "nbformat": 4,
 "nbformat_minor": 4
}
