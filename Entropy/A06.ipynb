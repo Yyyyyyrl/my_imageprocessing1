{
 "cells": [
  {
   "cell_type": "code",
   "execution_count": 1,
   "metadata": {},
   "outputs": [],
   "source": [
    "%matplotlib widget\n",
    "import matplotlib.pyplot as plt\n",
    "import numpy as np\n",
    "import matplotlib.colors as mcolors\n",
    "import skimage.color as color\n",
    "from ipywidgets import VBox, HBox, FloatLogSlider\n",
    "from scipy.stats import entropy\n",
    "\n",
    "# For importing from alternative directory sources\n",
    "import sys  \n",
    "sys.path.insert(0, '../dip_utils')\n",
    "\n",
    "\n",
    "from huff_utils import (build_huff_tree,\n",
    "                        build_huff_encoder,\n",
    "                        build_huff_pair,\n",
    "                        load_huffable_image,\n",
    "                        test_tree_making)\n",
    "from matrix_utils import (arr_info,\n",
    "                          make_linmap)\n",
    "from vis_utils import (vis_rgb_cube,\n",
    "                       vis_hsv_cube,\n",
    "                       vis_hists,\n",
    "                       vis_pair,\n",
    "                       lab_uniform)"
   ]
  },
  {
   "cell_type": "markdown",
   "metadata": {},
   "source": [
    "# Test Encoding/Decoding"
   ]
  },
  {
   "cell_type": "code",
   "execution_count": 2,
   "metadata": {},
   "outputs": [
    {
     "name": "stdout",
     "output_type": "stream",
     "text": [
      "loadHuffableImage: input is multi-channel, using grayscale.\n",
      "loadHuffableImage: Setting range to [0, 255]\n"
     ]
    }
   ],
   "source": [
    "I = load_huffable_image('../dip_pics/happy128.png')\n",
    "encoder, decoder = build_huff_pair(I)\n",
    "enI = ''.join(encoder[pix] for pix in I.ravel())"
   ]
  },
  {
   "cell_type": "code",
   "execution_count": 3,
   "metadata": {},
   "outputs": [
    {
     "data": {
      "text/plain": [
       "array([255, 255, 255, ..., 255, 255, 255], dtype=uint8)"
      ]
     },
     "execution_count": 3,
     "metadata": {},
     "output_type": "execute_result"
    }
   ],
   "source": [
    "I.ravel()"
   ]
  },
  {
   "cell_type": "code",
   "execution_count": 4,
   "metadata": {},
   "outputs": [],
   "source": [
    "def decode_image (huffStr,decoder):\n",
    "    dec = []\n",
    "    while huffStr:\n",
    "        for k in decoder:\n",
    "            if huffStr.startswith(k):\n",
    "                dec.append(decoder[k])\n",
    "                huffStr = huffStr[len(k):]\n",
    "    res = np.asarray(dec, dtype=np.uint8)\n",
    "    return res"
   ]
  },
  {
   "cell_type": "code",
   "execution_count": 5,
   "metadata": {},
   "outputs": [],
   "source": [
    "deI= decode_image(enI,decoder)"
   ]
  },
  {
   "cell_type": "code",
   "execution_count": 6,
   "metadata": {},
   "outputs": [
    {
     "data": {
      "text/plain": [
       "array([255, 255, 255, ..., 255, 255, 255], dtype=uint8)"
      ]
     },
     "execution_count": 6,
     "metadata": {},
     "output_type": "execute_result"
    }
   ],
   "source": [
    "deI"
   ]
  },
  {
   "cell_type": "code",
   "execution_count": 7,
   "metadata": {},
   "outputs": [
    {
     "data": {
      "text/plain": [
       "True"
      ]
     },
     "execution_count": 7,
     "metadata": {},
     "output_type": "execute_result"
    }
   ],
   "source": [
    "np.all(deI == I.ravel())"
   ]
  },
  {
   "cell_type": "code",
   "execution_count": 8,
   "metadata": {},
   "outputs": [
    {
     "data": {
      "text/plain": [
       "((128, 128), dtype('uint8'), 0, 255)"
      ]
     },
     "execution_count": 8,
     "metadata": {},
     "output_type": "execute_result"
    }
   ],
   "source": [
    "arr_info(I)"
   ]
  },
  {
   "cell_type": "code",
   "execution_count": 9,
   "metadata": {},
   "outputs": [],
   "source": [
    "reconstruct_I = deI.reshape(128,128)"
   ]
  },
  {
   "cell_type": "code",
   "execution_count": 10,
   "metadata": {},
   "outputs": [
    {
     "data": {
      "application/vnd.jupyter.widget-view+json": {
       "model_id": "bee790288d314cbe976167725345eda7",
       "version_major": 2,
       "version_minor": 0
      },
      "text/plain": [
       "Canvas(toolbar=Toolbar(toolitems=[('Home', 'Reset original view', 'home', 'home'), ('Back', 'Back to previous …"
      ]
     },
     "metadata": {},
     "output_type": "display_data"
    }
   ],
   "source": [
    "vis_pair(I,reconstruct_I)"
   ]
  },
  {
   "cell_type": "code",
   "execution_count": 11,
   "metadata": {},
   "outputs": [],
   "source": [
    "I2 = plt.imread('../dip_pics/coral.jpg')"
   ]
  },
  {
   "cell_type": "code",
   "execution_count": 12,
   "metadata": {},
   "outputs": [],
   "source": [
    "R,G,B = np.split(I2, indices_or_sections=3,axis=-1)"
   ]
  },
  {
   "cell_type": "code",
   "execution_count": 13,
   "metadata": {},
   "outputs": [
    {
     "name": "stdout",
     "output_type": "stream",
     "text": [
      "R:  ((297, 448, 1), dtype('uint8'), 0, 255)\n",
      "G:  ((297, 448, 1), dtype('uint8'), 0, 255)\n",
      "B:  ((297, 448, 1), dtype('uint8'), 0, 255)\n"
     ]
    }
   ],
   "source": [
    "print(\"R: \", arr_info(R))\n",
    "print(\"G: \", arr_info(G))\n",
    "print(\"B: \", arr_info(B))"
   ]
  },
  {
   "cell_type": "code",
   "execution_count": 14,
   "metadata": {},
   "outputs": [],
   "source": [
    "encR, decR = build_huff_pair(R)\n",
    "encG, decG = build_huff_pair(G)\n",
    "encB, decB = build_huff_pair(B)\n",
    "enR = ''.join(encR[pix] for pix in R.ravel())\n",
    "enG = ''.join(encG[pix] for pix in G.ravel())\n",
    "enB = ''.join(encB[pix] for pix in B.ravel())"
   ]
  },
  {
   "cell_type": "code",
   "execution_count": 15,
   "metadata": {},
   "outputs": [],
   "source": [
    "reconstructed_I2 = np.dstack((decode_image(enR,decR).reshape(297,448),decode_image(enG,decG).reshape(297,448),decode_image(enB,decB).reshape(297,448)))"
   ]
  },
  {
   "cell_type": "code",
   "execution_count": 16,
   "metadata": {},
   "outputs": [
    {
     "name": "stdout",
     "output_type": "stream",
     "text": [
      "((297, 448, 3), dtype('uint8'), 0, 255)\n",
      "((297, 448, 3), dtype('uint8'), 0, 255)\n"
     ]
    }
   ],
   "source": [
    "print(arr_info(I2))\n",
    "print(arr_info(reconstructed_I2))"
   ]
  },
  {
   "cell_type": "code",
   "execution_count": 17,
   "metadata": {},
   "outputs": [
    {
     "data": {
      "text/plain": [
       "True"
      ]
     },
     "execution_count": 17,
     "metadata": {},
     "output_type": "execute_result"
    }
   ],
   "source": [
    "np.all(I2.ravel() == reconstructed_I2.ravel())"
   ]
  },
  {
   "cell_type": "code",
   "execution_count": 18,
   "metadata": {},
   "outputs": [
    {
     "data": {
      "application/vnd.jupyter.widget-view+json": {
       "model_id": "61fc1811b3964d98b91bda0763a92955",
       "version_major": 2,
       "version_minor": 0
      },
      "text/plain": [
       "Canvas(toolbar=Toolbar(toolitems=[('Home', 'Reset original view', 'home', 'home'), ('Back', 'Back to previous …"
      ]
     },
     "metadata": {},
     "output_type": "display_data"
    }
   ],
   "source": [
    "vis_pair(I2,reconstructed_I2)"
   ]
  },
  {
   "cell_type": "code",
   "execution_count": 19,
   "metadata": {},
   "outputs": [],
   "source": [
    "def reset(R,G,B):\n",
    "    Rset = 0\n",
    "    Gset = 0\n",
    "    Bset = 0\n",
    "    \n",
    "    if R.ravel().max() <= 1:\n",
    "        Rset = 1\n",
    "        R1 = np.round(256*R).astype('uint8')\n",
    "    else:\n",
    "        R1 = R\n",
    "    \n",
    "    if G.ravel().max() <= 1:\n",
    "        Gset = 1\n",
    "        G1 = np.round(256*G).astype('uint8')\n",
    "    else:\n",
    "        G1 = G\n",
    "\n",
    "    if B.ravel().max() <= 1:\n",
    "        Bset = 1\n",
    "        B1 = np.round(256*B).astype('uint8')\n",
    "    else:\n",
    "        B1 = B        \n",
    "    \n",
    "    return R1,G1,B1,Rset,Gset,Bset"
   ]
  },
  {
   "cell_type": "code",
   "execution_count": 20,
   "metadata": {},
   "outputs": [],
   "source": [
    "def getEntropy(R,G,B):\n",
    "    binsR = np.arange(257)\n",
    "    freqR, binsR = np.histogram(R.ravel(), bins=binsR)\n",
    "    entR = entropy(freqR, base=2)\n",
    "    \n",
    "    binsG = np.arange(257)\n",
    "    freqG, binsG = np.histogram(G.ravel(), bins=binsG)\n",
    "    entG = entropy(freqG, base=2)\n",
    "    \n",
    "    binsB = np.arange(257)\n",
    "    freqB, binsB = np.histogram(B.ravel(), bins=binsB)\n",
    "    entB = entropy(freqB, base=2)\n",
    "    \n",
    "    return entR,entG,entB"
   ]
  },
  {
   "cell_type": "code",
   "execution_count": 21,
   "metadata": {},
   "outputs": [],
   "source": [
    "def getsize8bit(R,G,B):\n",
    "    sizeR = 8*np.prod(R.shape)\n",
    "    sizeG = 8*np.prod(G.shape)\n",
    "    sizeB = 8*np.prod(B.shape)\n",
    "    return sizeR,sizeG,sizeB"
   ]
  },
  {
   "cell_type": "code",
   "execution_count": 22,
   "metadata": {},
   "outputs": [],
   "source": [
    "def printStatSingleChannel(channel,reset,en,ent,size,bpp):\n",
    "    print('Channel' + str(channel) + 'statistics:')\n",
    "    if reset == 1:\n",
    "        print('LoadHuffableImage: Setting range to [0, 255]')\n",
    "    print(str(channel) + 'channel entropy is ' + str(ent) + 'bits.')\n",
    "    print('Size at 8-bit encoding:     ' + \"{:.2f}\".format(size/8000) + 'KB.')\n",
    "    print('Size with huff encoding:     ' + \"{:.2f}\".format(len(en)/8000) + \"KB, or \" + \"{:.2f}\".format(bpp) + \" per pixel.\")\n",
    "    print(\"---------------------------------------------------------\")"
   ]
  },
  {
   "cell_type": "code",
   "execution_count": 23,
   "metadata": {},
   "outputs": [],
   "source": [
    "def getCompressionStats(imageFileName):\n",
    "    I = plt.imread(imageFileName)\n",
    "    R,G,B = np.split(I,indices_or_sections=3,axis=-1)\n",
    "    \n",
    "    R2,G2,B2,Rset,Gset,Bset = reset(R,G,B)\n",
    "        \n",
    "    #encoding and decoding dictionaries\n",
    "    encR, decR = build_huff_pair(R2)\n",
    "    encG, decG = build_huff_pair(G2)\n",
    "    encB, decB = build_huff_pair(B2)\n",
    "    \n",
    "    # Size with huff encoding: len(enR/G/B)\n",
    "    enR = ''.join(encR[pix] for pix in R2.ravel())\n",
    "    enG = ''.join(encG[pix] for pix in G2.ravel())\n",
    "    enB = ''.join(encB[pix] for pix in B2.ravel())\n",
    "    \n",
    "    # Entropy value\n",
    "    entR,entG,entB = getEntropy(R2,G2,B2)\n",
    "    \n",
    "    # Original Size\n",
    "    sizeR,sizeG,sizeB = getsize8bit(R2,G2,B2)\n",
    "    \n",
    "    # Bits per pixel actual use\n",
    "    bppR = len(enR)/np.prod(R2.shape)\n",
    "    bppG = len(enG)/np.prod(G2.shape)\n",
    "    bppB = len(enB)/np.prod(B2.shape)\n",
    "    \n",
    "    # Print results\n",
    "    printStatSingleChannel('Red',Rset,enR,entR,sizeR,bppR)\n",
    "    printStatSingleChannel('Green',Gset,enG,entG,sizeG,bppG)\n",
    "    printStatSingleChannel('Blue',Bset,enB,entB,sizeB,bppB)"
   ]
  },
  {
   "cell_type": "code",
   "execution_count": 24,
   "metadata": {},
   "outputs": [
    {
     "name": "stdout",
     "output_type": "stream",
     "text": [
      "ChannelRedstatistics:\n",
      "LoadHuffableImage: Setting range to [0, 255]\n",
      "Redchannel entropy is 3.4173796912298164bits.\n",
      "Size at 8-bit encoding:     16.38KB.\n",
      "Size with huff encoding:     7.12KB, or 3.48 per pixel.\n",
      "---------------------------------------------------------\n",
      "ChannelGreenstatistics:\n",
      "LoadHuffableImage: Setting range to [0, 255]\n",
      "Greenchannel entropy is 3.4058077464419907bits.\n",
      "Size at 8-bit encoding:     16.38KB.\n",
      "Size with huff encoding:     7.09KB, or 3.46 per pixel.\n",
      "---------------------------------------------------------\n",
      "ChannelBluestatistics:\n",
      "LoadHuffableImage: Setting range to [0, 255]\n",
      "Bluechannel entropy is 3.308168417838215bits.\n",
      "Size at 8-bit encoding:     16.38KB.\n",
      "Size with huff encoding:     6.89KB, or 3.36 per pixel.\n",
      "---------------------------------------------------------\n"
     ]
    }
   ],
   "source": [
    "getCompressionStats('../dip_pics/happy128.png')"
   ]
  },
  {
   "cell_type": "code",
   "execution_count": 25,
   "metadata": {},
   "outputs": [
    {
     "data": {
      "application/vnd.jupyter.widget-view+json": {
       "model_id": "4bcc63524d9f404594506123fa511ff6",
       "version_major": 2,
       "version_minor": 0
      },
      "text/plain": [
       "Canvas(toolbar=Toolbar(toolitems=[('Home', 'Reset original view', 'home', 'home'), ('Back', 'Back to previous …"
      ]
     },
     "metadata": {},
     "output_type": "display_data"
    },
    {
     "data": {
      "text/plain": [
       "<matplotlib.image.AxesImage at 0x7f215620f630>"
      ]
     },
     "execution_count": 25,
     "metadata": {},
     "output_type": "execute_result"
    }
   ],
   "source": [
    "test = plt.imread('../dip_pics/3D_shape.jpg')\n",
    "plt.figure()\n",
    "plt.imshow(test)"
   ]
  },
  {
   "cell_type": "code",
   "execution_count": 26,
   "metadata": {},
   "outputs": [
    {
     "name": "stdout",
     "output_type": "stream",
     "text": [
      "ChannelRedstatistics:\n",
      "Redchannel entropy is 6.01930101544606bits.\n",
      "Size at 8-bit encoding:     9794.57KB.\n",
      "Size with huff encoding:     7400.44KB, or 6.04 per pixel.\n",
      "---------------------------------------------------------\n",
      "ChannelGreenstatistics:\n",
      "Greenchannel entropy is 5.821433684037192bits.\n",
      "Size at 8-bit encoding:     9794.57KB.\n",
      "Size with huff encoding:     7167.77KB, or 5.85 per pixel.\n",
      "---------------------------------------------------------\n",
      "ChannelBluestatistics:\n",
      "Bluechannel entropy is 4.467539866672991bits.\n",
      "Size at 8-bit encoding:     9794.57KB.\n",
      "Size with huff encoding:     5508.34KB, or 4.50 per pixel.\n",
      "---------------------------------------------------------\n"
     ]
    }
   ],
   "source": [
    "getCompressionStats('../dip_pics/3D_shape.jpg')"
   ]
  },
  {
   "cell_type": "code",
   "execution_count": null,
   "metadata": {},
   "outputs": [],
   "source": []
  },
  {
   "cell_type": "code",
   "execution_count": null,
   "metadata": {},
   "outputs": [],
   "source": []
  }
 ],
 "metadata": {
  "kernelspec": {
   "display_name": "Python 3",
   "language": "python",
   "name": "python3"
  },
  "language_info": {
   "codemirror_mode": {
    "name": "ipython",
    "version": 3
   },
   "file_extension": ".py",
   "mimetype": "text/x-python",
   "name": "python",
   "nbconvert_exporter": "python",
   "pygments_lexer": "ipython3",
   "version": "3.7.3"
  }
 },
 "nbformat": 4,
 "nbformat_minor": 4
}
