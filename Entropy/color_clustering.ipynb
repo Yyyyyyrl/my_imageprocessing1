{
 "cells": [
  {
   "cell_type": "markdown",
   "metadata": {},
   "source": [
    "# Clustering on Color\n",
    "stough\n",
    "\n",
    "In this demo, we cluster the colors of an image using k-means clustering, leading to a selection of $K$ color centroids. Every pixel is then replaced with its centroid. This drastically reduces the number of unique colors in the image, but what happens to the quality of the image?\n",
    "\n",
    "Some color clustering using k-means...\n",
    "- [wiki](https://en.wikipedia.org/wiki/K-means_clustering)\n",
    "- [datascience](https://www.datascience.com/blog/k-means-clustering)\n",
    "- [Very nice summary of data clustering](https://sites.google.com/site/dataclusteringalgorithms/k-means-clustering-algorithm)"
   ]
  },
  {
   "cell_type": "code",
   "execution_count": 1,
   "metadata": {},
   "outputs": [],
   "source": [
    "%matplotlib widget\n",
    "import scipy.cluster.vq as vq\n",
    "import matplotlib.pyplot as plt\n",
    "import numpy as np\n",
    "\n",
    "# For importing from alternative directory sources\n",
    "import sys  \n",
    "sys.path.insert(0, '../dip_utils')\n",
    "\n",
    "from matrix_utils import arr_info\n",
    "from vis_utils import (vis_rgb_cube,\n",
    "                       vis_hists,\n",
    "                       vis_pair)\n",
    "\n",
    "COLORS = 256"
   ]
  },
  {
   "cell_type": "code",
   "execution_count": 2,
   "metadata": {},
   "outputs": [
    {
     "data": {
      "text/plain": [
       "((768, 1366, 3), dtype('uint8'), 0, 255)"
      ]
     },
     "execution_count": 2,
     "metadata": {},
     "output_type": "execute_result"
    }
   ],
   "source": [
    "I = plt.imread('../dip_pics/skyandsea.jpg')\n",
    "arr_info(I)"
   ]
  },
  {
   "cell_type": "code",
   "execution_count": 14,
   "metadata": {},
   "outputs": [
    {
     "data": {
      "application/vnd.jupyter.widget-view+json": {
       "model_id": "1c42012c94fb436bbc5187177751ad8a",
       "version_major": 2,
       "version_minor": 0
      },
      "text/plain": [
       "Canvas(toolbar=Toolbar(toolitems=[('Home', 'Reset original view', 'home', 'home'), ('Back', 'Back to previous …"
      ]
     },
     "metadata": {},
     "output_type": "display_data"
    }
   ],
   "source": [
    "vis_hists(I)"
   ]
  },
  {
   "cell_type": "code",
   "execution_count": 3,
   "metadata": {},
   "outputs": [
    {
     "data": {
      "text/plain": [
       "((1049088, 3), dtype('float64'), 0.0, 255.0)"
      ]
     },
     "execution_count": 3,
     "metadata": {},
     "output_type": "execute_result"
    }
   ],
   "source": [
    "X = np.concatenate([np.expand_dims(IC, axis = 1) for IC in\n",
    "                    [I[...,0].ravel(), I[...,1].ravel(), I[...,2].ravel()]], axis = 1)\n",
    "#X is N*Mx3\n",
    "\n",
    "#Needs floating point data to work with, we'll translate back.\n",
    "Xf = X.copy().astype('float')\n",
    "\n",
    "# Xf = vq.whiten(Xf)\n",
    "# The kmeans documentation asks for this, but results seem easier to deal with\n",
    "# if I don't use it.\n",
    "\n",
    "arr_info(Xf)"
   ]
  },
  {
   "cell_type": "code",
   "execution_count": 4,
   "metadata": {},
   "outputs": [
    {
     "name": "stderr",
     "output_type": "stream",
     "text": [
      "/usr/remote/anaconda-3.7-deeplearn/lib/python3.7/site-packages/scipy/cluster/vq.py:574: UserWarning: One of the clusters is empty. Re-run kmeans with a different initialization.\n",
      "  warnings.warn(\"One of the clusters is empty. \"\n"
     ]
    }
   ],
   "source": [
    "#Ask kmeans to get us 256 colors.\n",
    "[centers, labels] = vq.kmeans2(Xf, COLORS)\n",
    "centersUint = centers.copy().astype('uint8')\n",
    "#uint8 versions of the centers will clip to 0-255 for us, just in case.\n",
    "\n",
    "# Why do some centers end up outside of [0, 255]? I tried to include all the centers,\n",
    "# but then the colors associated with labels warp toward gray, kind of washing out\n",
    "# the image...SO don't do this\n",
    "# centerscopy = centers.copy()\n",
    "# centerscopy = centerscopy - centerscopy.min()\n",
    "# centerscopy = centerscopy/centerscopy.max()\n",
    "# centersUint = np.array(255*centerscopy).astype('uint8')"
   ]
  },
  {
   "cell_type": "code",
   "execution_count": 5,
   "metadata": {},
   "outputs": [
    {
     "name": "stdout",
     "output_type": "stream",
     "text": [
      "((256, 3), dtype('float64'), -89.89689962346293, 301.207277077203)\n",
      "((1049088,), dtype('int32'), 0, 255)\n"
     ]
    }
   ],
   "source": [
    "# Explore centers, labels.\n",
    "print(arr_info(centers))\n",
    "print(arr_info(labels))"
   ]
  },
  {
   "cell_type": "code",
   "execution_count": 6,
   "metadata": {},
   "outputs": [
    {
     "data": {
      "text/plain": [
       "array([140,  75, 140, 249, 249, 144, 206, 206, 144,   5], dtype=int32)"
      ]
     },
     "execution_count": 6,
     "metadata": {},
     "output_type": "execute_result"
    }
   ],
   "source": [
    "labels[:10]"
   ]
  },
  {
   "cell_type": "code",
   "execution_count": 7,
   "metadata": {},
   "outputs": [
    {
     "data": {
      "text/plain": [
       "array([[74, 44, 64],\n",
       "       [77, 39, 55],\n",
       "       [74, 44, 64],\n",
       "       [66, 40, 59],\n",
       "       [66, 40, 59],\n",
       "       [58, 46, 64],\n",
       "       [57, 39, 56],\n",
       "       [57, 39, 56],\n",
       "       [58, 46, 64],\n",
       "       [49, 39, 58]], dtype=uint8)"
      ]
     },
     "execution_count": 7,
     "metadata": {},
     "output_type": "execute_result"
    }
   ],
   "source": [
    "centersUint[labels[:10]]"
   ]
  },
  {
   "cell_type": "code",
   "execution_count": 8,
   "metadata": {},
   "outputs": [],
   "source": [
    "#centers is 256x3 representative colors from the image, while\n",
    "#labels is I.size indexes that tells which row of centers best\n",
    "#represents (is closest to) each and every pixel of the image.\n",
    "\n",
    "#Now, make an image consisting of the colors that each pixel got mapped to.\n",
    "Ir = np.zeros(I.shape)\n",
    "Ir[...,0] = np.reshape(centersUint[labels, 0], I.shape[:2])\n",
    "Ir[...,1] = np.reshape(centersUint[labels, 1], I.shape[:2])\n",
    "Ir[...,2] = np.reshape(centersUint[labels, 2], I.shape[:2])\n",
    "\n",
    "#Somehow, Ir is still floating point, so the imshow colormap will be weird.\n",
    "#We'll just cast it to uint8\n",
    "Ir = Ir.astype('uint8')"
   ]
  },
  {
   "cell_type": "code",
   "execution_count": 9,
   "metadata": {},
   "outputs": [
    {
     "data": {
      "application/vnd.jupyter.widget-view+json": {
       "model_id": "991aedf8be6c4b97864b53e628bb3e78",
       "version_major": 2,
       "version_minor": 0
      },
      "text/plain": [
       "Canvas(toolbar=Toolbar(toolitems=[('Home', 'Reset original view', 'home', 'home'), ('Back', 'Back to previous …"
      ]
     },
     "metadata": {},
     "output_type": "display_data"
    }
   ],
   "source": [
    "#Visualize\n",
    "f, ax = plt.subplots(1,3, figsize=(8,3), sharex=True, sharey=True)\n",
    "ax[0].imshow(I)\n",
    "ax[0].set_title('Original')\n",
    "\n",
    "ax[1].imshow(Ir)\n",
    "ax[1].set_title('Reconstructed with %d Colors' % COLORS)\n",
    "\n",
    "\n",
    "#Get and display an error image. We'll use scipy.cluster.vq\n",
    "#https://docs.scipy.org/doc/scipy/reference/generated/scipy.cluster.vq.vq.html\n",
    "color_codes, dist = vq.vq(Xf, centersUint)\n",
    "\n",
    "#color_codes should be equal to labels.\n",
    "pic = ax[2].imshow(np.reshape(dist, I.shape[:2]))\n",
    "# f.colorbar(pic, ax=ax[2])\n",
    "ax[2].set_title('Reconstruction Error')\n",
    "\n",
    "# Eliminate axes\n",
    "[a.axes.get_xaxis().set_visible(False) for a in ax];\n",
    "[a.axes.get_yaxis().set_visible(False) for a in ax];\n",
    "\n",
    "plt.tight_layout()"
   ]
  },
  {
   "cell_type": "code",
   "execution_count": 10,
   "metadata": {},
   "outputs": [
    {
     "name": "stdout",
     "output_type": "stream",
     "text": [
      "Original image has 126383 unique colors, versus 232 in the cluster colored image.\n"
     ]
    }
   ],
   "source": [
    "#And just to prove it, look at unique.\n",
    "#with numpy 1.13, you can send an axis to unique.\n",
    "#https://stackoverflow.com/questions/16970982/find-unique-rows-in-numpy-array\n",
    "#But I'll write it more generally.\n",
    "origvals = I[...,0].ravel() + 256*I[...,1].ravel() + 256**2*I[...,2].ravel()\n",
    "newvals = Ir[...,0].ravel() + 256*Ir[...,1].ravel() + 256**2*Ir[...,2].ravel()\n",
    "\n",
    "print('Original image has %d unique colors, versus %d in the cluster colored image.' %\n",
    "      (len(np.unique(origvals)), len(np.unique(newvals))))"
   ]
  },
  {
   "cell_type": "markdown",
   "metadata": {},
   "source": [
    "## Viewing the Color Cubes"
   ]
  },
  {
   "cell_type": "code",
   "execution_count": 12,
   "metadata": {},
   "outputs": [
    {
     "data": {
      "application/vnd.jupyter.widget-view+json": {
       "model_id": "14375e6fadcc45188a5c46b08146b6cc",
       "version_major": 2,
       "version_minor": 0
      },
      "text/plain": [
       "Canvas(toolbar=Toolbar(toolitems=[('Home', 'Reset original view', 'home', 'home'), ('Back', 'Back to previous …"
      ]
     },
     "metadata": {},
     "output_type": "display_data"
    }
   ],
   "source": [
    "vis_rgb_cube(I)"
   ]
  },
  {
   "cell_type": "code",
   "execution_count": 13,
   "metadata": {},
   "outputs": [
    {
     "data": {
      "application/vnd.jupyter.widget-view+json": {
       "model_id": "7754942ef1e84b758eb750f0756005ef",
       "version_major": 2,
       "version_minor": 0
      },
      "text/plain": [
       "Canvas(toolbar=Toolbar(toolitems=[('Home', 'Reset original view', 'home', 'home'), ('Back', 'Back to previous …"
      ]
     },
     "metadata": {},
     "output_type": "display_data"
    }
   ],
   "source": [
    "vis_rgb_cube(Ir)"
   ]
  },
  {
   "cell_type": "code",
   "execution_count": null,
   "metadata": {},
   "outputs": [],
   "source": []
  }
 ],
 "metadata": {
  "kernelspec": {
   "display_name": "Python 3",
   "language": "python",
   "name": "python3"
  },
  "language_info": {
   "codemirror_mode": {
    "name": "ipython",
    "version": 3
   },
   "file_extension": ".py",
   "mimetype": "text/x-python",
   "name": "python",
   "nbconvert_exporter": "python",
   "pygments_lexer": "ipython3",
   "version": "3.7.3"
  }
 },
 "nbformat": 4,
 "nbformat_minor": 4
}
