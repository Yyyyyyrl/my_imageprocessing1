{
 "cells": [
  {
   "cell_type": "markdown",
   "metadata": {},
   "source": [
    "# Using Fourier Transform for Blurring, Sharpening\n",
    "stough 202-\n",
    "DIP 4.7 shows similar.\n",
    "\n",
    "We saw in [`fft_intro`](./fft_intro.ipynb) that we can denoise an image in the Fourier space, also called the frequency domain. We also saw that we can consider the magnitude and phase components separately given the Fourier Transform of an image. Here we're going to play around further in the Fourier domain and show how we can blur and sharpen an image through clever manipulation in the freqency domain."
   ]
  },
  {
   "cell_type": "markdown",
   "metadata": {},
   "source": [
    "## Imports\n",
    "We'll use the [Fast Fourier Functions](https://docs.scipy.org/doc/scipy/tutorial/fft.html) again."
   ]
  },
  {
   "cell_type": "code",
   "execution_count": 1,
   "metadata": {},
   "outputs": [],
   "source": [
    "%matplotlib widget\n",
    "import matplotlib.pyplot as plt\n",
    "from matplotlib.colors import LogNorm\n",
    "from skimage.color import rgb2gray\n",
    "import numpy as np\n",
    "\n",
    "# For importing from alternative directory sources\n",
    "import sys  \n",
    "sys.path.insert(0, '../dip_utils')\n",
    "\n",
    "from matrix_utils import (arr_info,\n",
    "                          make_linmap)\n",
    "from vis_utils import (vis_rgb_cube,\n",
    "                       vis_hists,\n",
    "                       vis_image,\n",
    "                       vis_pair,\n",
    "                       vis_surface)\n",
    "\n",
    "from scipy.fft import (fft2, ifft2, fftshift, \n",
    "                       ifftshift, fftn, ifftn)\n",
    "from skimage.transform import resize"
   ]
  },
  {
   "cell_type": "markdown",
   "metadata": {},
   "source": [
    "## Blur, Edginess, Sharpen\n",
    "In this worksheet we'll take an image and manipulate it in the frequency space.\n",
    "\n",
    "- Use `fftn` to convert to the Fourier domain\n",
    "- Scale and manipulate the spectrum coefficients in the Fourier domain.\n",
    "- Use `ifftn` to convert back to the image/spatial domain.\n",
    "\n",
    "Of note in this exercise is that visualization can be a bear. We'll use `fftshift` to visualize the Fourier domain in a way that shows the low-frequency components in the center of the image and higher frequencies out towards the extremes."
   ]
  },
  {
   "cell_type": "code",
   "execution_count": 2,
   "metadata": {},
   "outputs": [
    {
     "data": {
      "text/plain": [
       "((1536, 2048, 3), dtype('float64'), 0.0, 1.0)"
      ]
     },
     "execution_count": 2,
     "metadata": {},
     "output_type": "execute_result"
    }
   ],
   "source": [
    "I = plt.imread('../dip_pics/switzerland_hazy.jpg')\n",
    "I = I/255.0\n",
    "arr_info(I)"
   ]
  },
  {
   "cell_type": "code",
   "execution_count": 3,
   "metadata": {},
   "outputs": [
    {
     "data": {
      "application/vnd.jupyter.widget-view+json": {
       "model_id": "32b2041fc0e74dd3ad1acfa8777a882f",
       "version_major": 2,
       "version_minor": 0
      },
      "text/plain": [
       "Canvas(toolbar=Toolbar(toolitems=[('Home', 'Reset original view', 'home', 'home'), ('Back', 'Back to previous …"
      ]
     },
     "metadata": {},
     "output_type": "display_data"
    }
   ],
   "source": [
    "vis_image(I, show_ticks=False)"
   ]
  },
  {
   "cell_type": "code",
   "execution_count": 4,
   "metadata": {},
   "outputs": [],
   "source": [
    "I_fft = fftn(I)"
   ]
  },
  {
   "cell_type": "code",
   "execution_count": 5,
   "metadata": {},
   "outputs": [
    {
     "data": {
      "text/plain": [
       "((1536, 2048, 3),\n",
       " dtype('complex128'),\n",
       " (-231818.46735175475-282717.4222377647j),\n",
       " (4825182.023529412-0j))"
      ]
     },
     "execution_count": 5,
     "metadata": {},
     "output_type": "execute_result"
    }
   ],
   "source": [
    "arr_info(I_fft)"
   ]
  },
  {
   "cell_type": "markdown",
   "metadata": {},
   "source": [
    "### Visualizing in the Fourier domain\n",
    "A bit difficult artifact about `fft` is that the output places the lower-frequency coefficients at the corners of the transform array. Normally however, we wish to visualize the spectrum such that lower frequencies are in the center of the figure. We'll use `fftshift` to do this."
   ]
  },
  {
   "cell_type": "code",
   "execution_count": 6,
   "metadata": {},
   "outputs": [
    {
     "data": {
      "application/vnd.jupyter.widget-view+json": {
       "model_id": "adb582efb0ff45ebb7cefaf5c32eec70",
       "version_major": 2,
       "version_minor": 0
      },
      "text/plain": [
       "Canvas(toolbar=Toolbar(toolitems=[('Home', 'Reset original view', 'home', 'home'), ('Back', 'Back to previous …"
      ]
     },
     "metadata": {},
     "output_type": "display_data"
    }
   ],
   "source": [
    "# Visualize the freq domain.\n",
    "temp = np.abs(I_fft)\n",
    "temp = np.log2(1 + temp)/np.log2(1+temp.max())\n",
    "vis_image(fftshift(temp))"
   ]
  },
  {
   "cell_type": "markdown",
   "metadata": {},
   "source": [
    "### Using a Gaussian for smooth scaling\n",
    "\n",
    "In [`fft_intro`](./fft_intro.ipynb) we simply zero'd out all the coefficients outside of some square in the fourier space in order to eliminate high-frequency content. However this can lead to weird artifacts that are related to [aliasing](https://en.wikipedia.org/wiki/Aliasing). The proper way to manipulate the fourier domain is through smoother scaling, like the Gaussian. Below we'll define a function that generates a 2D Gaussian of the same shape as an input image. We did something like this using scipy's `norm` and `np.outer` in [color_quantization](../SensingSamplingQuantization/color_quantization.ipynb). Here, we give ourselves a little more flexibility by directly evaluating the Gaussian exponential at all the pixel coordinates we want.\n",
    "\n",
    "\\begin{equation}\n",
    "\\mathcal{N}(\\mu, \\sigma)(x) = e^{-(x-\\mu)^2/\\sigma^2}\n",
    "\\end{equation}\n"
   ]
  },
  {
   "cell_type": "code",
   "execution_count": 7,
   "metadata": {},
   "outputs": [],
   "source": [
    "# Thanks https://stackoverflow.com/questions/29731726/how-to-calculate-a-gaussian-kernel-matrix-efficiently-in-numpy\n",
    "\n",
    "def gaussian(I, sig):\n",
    "    x, y = np.meshgrid(np.arange(I.shape[1]), np.arange(I.shape[0]))\n",
    "    coords = np.stack([x,y], axis=-1)\n",
    "    c = np.reshape([I.shape[1]/2, I.shape[0]/2], (1,1,2))\n",
    "    return np.exp((-(np.linalg.norm(coords-c, axis=2)**2))/(2*sig**2))"
   ]
  },
  {
   "cell_type": "code",
   "execution_count": 8,
   "metadata": {},
   "outputs": [
    {
     "data": {
      "application/vnd.jupyter.widget-view+json": {
       "model_id": "2bac5cd4580b422aa9884f6486129d5e",
       "version_major": 2,
       "version_minor": 0
      },
      "text/plain": [
       "Canvas(toolbar=Toolbar(toolitems=[('Home', 'Reset original view', 'home', 'home'), ('Back', 'Back to previous …"
      ]
     },
     "metadata": {},
     "output_type": "display_data"
    }
   ],
   "source": [
    "vis_image(gaussian(I, 200))"
   ]
  },
  {
   "cell_type": "markdown",
   "metadata": {},
   "source": [
    "## Blur: Use the Gaussian as a scalar mutliple in the frequency domain\n",
    "Great reference for [matplotlib surface visualizations](https://matplotlib.org/stable/gallery/index.html#mplot3d-examples-index). Here I just want to visualize what the scalar we'll use looks like over the image, as a surface in 3D."
   ]
  },
  {
   "cell_type": "code",
   "execution_count": 9,
   "metadata": {},
   "outputs": [
    {
     "data": {
      "application/vnd.jupyter.widget-view+json": {
       "model_id": "79059af893914a99a46ade5298be75a3",
       "version_major": 2,
       "version_minor": 0
      },
      "text/plain": [
       "Canvas(toolbar=Toolbar(toolitems=[('Home', 'Reset original view', 'home', 'home'), ('Back', 'Back to previous …"
      ]
     },
     "metadata": {},
     "output_type": "display_data"
    }
   ],
   "source": [
    "vis_surface(gaussian(I, 200))"
   ]
  },
  {
   "cell_type": "markdown",
   "metadata": {},
   "source": [
    "### The Actual scaling in frequency space\n",
    "We want to multiply the Fourier coefficients of the image by this Gaussian image, thereby scaling the coefficients. We just have to remember that `I_fft` needs to be `fftshift`'d to make the pixels line up correctly. We only do the shifting for visualization until now. Note that the variable `temp` comes from several cells ago, when we first visualized `I_fft`. "
   ]
  },
  {
   "cell_type": "code",
   "execution_count": 10,
   "metadata": {},
   "outputs": [
    {
     "data": {
      "application/vnd.jupyter.widget-view+json": {
       "model_id": "dc54ac7b54274ef0acd69972e3b103e6",
       "version_major": 2,
       "version_minor": 0
      },
      "text/plain": [
       "Canvas(toolbar=Toolbar(toolitems=[('Home', 'Reset original view', 'home', 'home'), ('Back', 'Back to previous …"
      ]
     },
     "metadata": {},
     "output_type": "display_data"
    }
   ],
   "source": [
    "vis_pair(fftshift(temp), gaussian(I, 100), \n",
    "         first_title='Fourier Spectrum of Image', \n",
    "         second_title='Gaussian Scaling Factor',\n",
    "         show_ticks=False)"
   ]
  },
  {
   "cell_type": "code",
   "execution_count": 11,
   "metadata": {},
   "outputs": [],
   "source": [
    "blur_I_fft = ifftshift(np.multiply(fftshift(I_fft), gaussian(I, 100)[...,None]))"
   ]
  },
  {
   "cell_type": "code",
   "execution_count": 12,
   "metadata": {},
   "outputs": [
    {
     "data": {
      "application/vnd.jupyter.widget-view+json": {
       "model_id": "fe856a656e3d410ca1f832c5a42e4cc1",
       "version_major": 2,
       "version_minor": 0
      },
      "text/plain": [
       "Canvas(toolbar=Toolbar(toolitems=[('Home', 'Reset original view', 'home', 'home'), ('Back', 'Back to previous …"
      ]
     },
     "metadata": {},
     "output_type": "display_data"
    }
   ],
   "source": [
    "# Visualize the freq domain.\n",
    "temp = np.abs(blur_I_fft)\n",
    "temp = np.log2(1 + temp)/np.log2(1+temp.max())\n",
    "vis_image(fftshift(temp))"
   ]
  },
  {
   "cell_type": "markdown",
   "metadata": {},
   "source": []
  },
  {
   "cell_type": "code",
   "execution_count": 13,
   "metadata": {},
   "outputs": [
    {
     "data": {
      "text/plain": [
       "((1536, 2048, 3),\n",
       " dtype('complex128'),\n",
       " (0.07312906139033189-1.4230526765533602e-17j),\n",
       " (0.9999999994021648+5.3553954578962766e-17j))"
      ]
     },
     "execution_count": 13,
     "metadata": {},
     "output_type": "execute_result"
    }
   ],
   "source": [
    "I_blurred = ifftn(blur_I_fft)\n",
    "arr_info(I_blurred)"
   ]
  },
  {
   "cell_type": "code",
   "execution_count": 14,
   "metadata": {},
   "outputs": [
    {
     "data": {
      "application/vnd.jupyter.widget-view+json": {
       "model_id": "a8fde77892c94441bb4c4fa3d136f3b9",
       "version_major": 2,
       "version_minor": 0
      },
      "text/plain": [
       "Canvas(toolbar=Toolbar(toolitems=[('Home', 'Reset original view', 'home', 'home'), ('Back', 'Back to previous …"
      ]
     },
     "metadata": {},
     "output_type": "display_data"
    }
   ],
   "source": [
    "vis_pair(I, np.clip(I_blurred.real, 0, 1), second_title='Blurred in Freq Space', show_ticks=False)"
   ]
  },
  {
   "cell_type": "markdown",
   "metadata": {},
   "source": [
    "## Edge Finder: Use the complement of the Gaussian as the scalar\n",
    "Thereby keeping only the higher frequency content."
   ]
  },
  {
   "cell_type": "code",
   "execution_count": 24,
   "metadata": {},
   "outputs": [
    {
     "data": {
      "application/vnd.jupyter.widget-view+json": {
       "model_id": "70e4dc81f1c94deca213642086f27d73",
       "version_major": 2,
       "version_minor": 0
      },
      "text/plain": [
       "Canvas(toolbar=Toolbar(toolitems=[('Home', 'Reset original view', 'home', 'home'), ('Back', 'Back to previous …"
      ]
     },
     "metadata": {},
     "output_type": "display_data"
    }
   ],
   "source": [
    "vis_surface(1-gaussian(I, 200))"
   ]
  },
  {
   "cell_type": "code",
   "execution_count": 16,
   "metadata": {},
   "outputs": [],
   "source": [
    "edge_I_fft = ifftshift(np.multiply(fftshift(I_fft), 1-gaussian(I, 100)[...,None]))"
   ]
  },
  {
   "cell_type": "code",
   "execution_count": 17,
   "metadata": {},
   "outputs": [
    {
     "data": {
      "application/vnd.jupyter.widget-view+json": {
       "model_id": "2a0af28980214b34b4751d843ea7a420",
       "version_major": 2,
       "version_minor": 0
      },
      "text/plain": [
       "Canvas(toolbar=Toolbar(toolitems=[('Home', 'Reset original view', 'home', 'home'), ('Back', 'Back to previous …"
      ]
     },
     "metadata": {},
     "output_type": "display_data"
    }
   ],
   "source": [
    "# Visualize the freq domain.\n",
    "temp = np.abs(edge_I_fft)\n",
    "temp = np.log2(1 + temp)/np.log2(1+temp.max())\n",
    "vis_image(fftshift(temp))"
   ]
  },
  {
   "cell_type": "code",
   "execution_count": 18,
   "metadata": {},
   "outputs": [
    {
     "data": {
      "text/plain": [
       "((1536, 2048, 3), dtype('float64'), -0.5746784645962378, 0.6157075032323429)"
      ]
     },
     "execution_count": 18,
     "metadata": {},
     "output_type": "execute_result"
    }
   ],
   "source": [
    "I_edges = ifftn(edge_I_fft)\n",
    "arr_info(I_edges.real)"
   ]
  },
  {
   "cell_type": "code",
   "execution_count": 19,
   "metadata": {},
   "outputs": [
    {
     "data": {
      "text/plain": [
       "((1536, 2048, 3), dtype('float64'), 0.0, 1.0)"
      ]
     },
     "execution_count": 19,
     "metadata": {},
     "output_type": "execute_result"
    }
   ],
   "source": [
    "temp = np.abs(I_edges.real)\n",
    "temp = (temp - temp.min())/(temp.max()-temp.min()) # Normalize - compress the range of max and min to 1 to 0\n",
    "arr_info(temp)"
   ]
  },
  {
   "cell_type": "code",
   "execution_count": 20,
   "metadata": {},
   "outputs": [
    {
     "data": {
      "text/plain": [
       "((1536, 2048, 3), dtype('float64'), 0.08232349828984364, 2.0)"
      ]
     },
     "execution_count": 20,
     "metadata": {},
     "output_type": "execute_result"
    }
   ],
   "source": [
    "arr_info(I+temp.max()-temp)"
   ]
  },
  {
   "cell_type": "code",
   "execution_count": 21,
   "metadata": {},
   "outputs": [
    {
     "data": {
      "application/vnd.jupyter.widget-view+json": {
       "model_id": "0b0615f3ce7f4a08922c129dc5ea4f47",
       "version_major": 2,
       "version_minor": 0
      },
      "text/plain": [
       "Canvas(toolbar=Toolbar(toolitems=[('Home', 'Reset original view', 'home', 'home'), ('Back', 'Back to previous …"
      ]
     },
     "metadata": {},
     "output_type": "display_data"
    }
   ],
   "source": [
    "vis_pair(I, temp.max()-temp, second_title='Just High Freq', show_ticks=False)"
   ]
  },
  {
   "cell_type": "markdown",
   "metadata": {},
   "source": [
    "## How might we potentially Sharpen the image?"
   ]
  },
  {
   "cell_type": "code",
   "execution_count": null,
   "metadata": {},
   "outputs": [],
   "source": []
  },
  {
   "cell_type": "code",
   "execution_count": 28,
   "metadata": {},
   "outputs": [
    {
     "data": {
      "text/plain": [
       "(3, 1)"
      ]
     },
     "execution_count": 28,
     "metadata": {},
     "output_type": "execute_result"
    }
   ],
   "source": [
    "np.array([1,2,3])[...,None].shape"
   ]
  },
  {
   "cell_type": "code",
   "execution_count": 25,
   "metadata": {},
   "outputs": [],
   "source": [
    "x = (1-gaussian(I,200))\n",
    "y = 1 + 4*x\n",
    "edge_I_fft2 = ifftshift(np.multiply(fftshift(I_fft), y[...,None]))"
   ]
  },
  {
   "cell_type": "code",
   "execution_count": 22,
   "metadata": {},
   "outputs": [],
   "source": [
    "edge_I_fft2 = ifftshift(np.multiply(fftshift(I_fft), 2-gaussian(I, 100)[...,None]))"
   ]
  },
  {
   "cell_type": "code",
   "execution_count": 29,
   "metadata": {},
   "outputs": [
    {
     "data": {
      "text/plain": [
       "((1536, 2048, 3),\n",
       " dtype('complex128'),\n",
       " (-231830.05820267939-282731.55802052777j),\n",
       " (4825182.023529412+0j))"
      ]
     },
     "execution_count": 29,
     "metadata": {},
     "output_type": "execute_result"
    }
   ],
   "source": [
    "arr_info(edge_I_fft2)"
   ]
  },
  {
   "cell_type": "code",
   "execution_count": null,
   "metadata": {},
   "outputs": [],
   "source": []
  },
  {
   "cell_type": "code",
   "execution_count": 26,
   "metadata": {},
   "outputs": [
    {
     "data": {
      "application/vnd.jupyter.widget-view+json": {
       "model_id": "08b27e8dbec44950924112651f49414a",
       "version_major": 2,
       "version_minor": 0
      },
      "text/plain": [
       "Canvas(toolbar=Toolbar(toolitems=[('Home', 'Reset original view', 'home', 'home'), ('Back', 'Back to previous …"
      ]
     },
     "metadata": {},
     "output_type": "display_data"
    }
   ],
   "source": [
    "I_edges2 = ifftn(edge_I_fft2)\n",
    "temp2 = np.abs(I_edges2.real)\n",
    "temp2 = np.clip(temp2,0,1)\n",
    "vis_pair(I, temp2, second_title='Edge Sharpen', show_ticks=False)"
   ]
  },
  {
   "cell_type": "code",
   "execution_count": null,
   "metadata": {},
   "outputs": [],
   "source": []
  },
  {
   "cell_type": "code",
   "execution_count": null,
   "metadata": {},
   "outputs": [],
   "source": []
  },
  {
   "cell_type": "code",
   "execution_count": null,
   "metadata": {},
   "outputs": [],
   "source": []
  },
  {
   "cell_type": "code",
   "execution_count": null,
   "metadata": {},
   "outputs": [],
   "source": []
  },
  {
   "cell_type": "code",
   "execution_count": null,
   "metadata": {},
   "outputs": [],
   "source": []
  },
  {
   "cell_type": "code",
   "execution_count": null,
   "metadata": {},
   "outputs": [],
   "source": []
  }
 ],
 "metadata": {
  "kernelspec": {
   "display_name": "Python 3",
   "language": "python",
   "name": "python3"
  },
  "language_info": {
   "codemirror_mode": {
    "name": "ipython",
    "version": 3
   },
   "file_extension": ".py",
   "mimetype": "text/x-python",
   "name": "python",
   "nbconvert_exporter": "python",
   "pygments_lexer": "ipython3",
   "version": "3.7.3"
  }
 },
 "nbformat": 4,
 "nbformat_minor": 4
}
