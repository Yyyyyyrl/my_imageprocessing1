{
 "cells": [
  {
   "cell_type": "markdown",
   "metadata": {},
   "source": [
    "# Intro to 2D PCA.\n",
    "stough 202-\n",
    "\n",
    "- [Khan academy](https://www.youtube.com/playlist?list=PLbPhAbAhvjUzeLkPVnv0kc3_9rAfXpGtS) videos on Linear Algebra background.\n",
    "- [Neat walkthrough](https://towardsdatascience.com/the-mathematics-behind-principal-component-analysis-fff2d7f4b643) for a simple example."
   ]
  },
  {
   "cell_type": "code",
   "execution_count": 3,
   "metadata": {},
   "outputs": [],
   "source": [
    "%matplotlib widget\n",
    "import matplotlib.pyplot as plt\n",
    "import numpy as np\n",
    "from sklearn.decomposition import PCA"
   ]
  },
  {
   "cell_type": "markdown",
   "metadata": {},
   "source": [
    "### Generate Some Random Data."
   ]
  },
  {
   "cell_type": "code",
   "execution_count": 4,
   "metadata": {},
   "outputs": [],
   "source": [
    "X = np.array([4,6], ndmin=2).T + np.random.randn(2,500)\n",
    "\n",
    "def gen_pca_data(mu=[10,20], var=[6,1], evs=[[1,1], [1,-1]], num=500):\n",
    "    # Gaussian Normal axis-oriented data scaled by the variance.\n",
    "    X = np.sqrt(np.array(var)[:,None])*np.random.randn(len(mu),num)\n",
    "\n",
    "    # norm the row vectors: https://necromuralist.github.io/neural_networks/posts/normalizing-with-numpy/\n",
    "    evs = evs/np.linalg.norm(evs, ord=2, axis=1, keepdims=True)\n",
    "\n",
    "    # Apply the row vectors as a rotation, to reorient the data\n",
    "    X = np.matmul(evs, X)\n",
    "\n",
    "    # Add back in the mean\n",
    "    X = np.array(mu, ndmin=2).T + X\n",
    "    \n",
    "    return X.T"
   ]
  },
  {
   "cell_type": "code",
   "execution_count": 5,
   "metadata": {},
   "outputs": [],
   "source": [
    "X = gen_pca_data()"
   ]
  },
  {
   "cell_type": "code",
   "execution_count": 6,
   "metadata": {},
   "outputs": [
    {
     "data": {
      "application/vnd.jupyter.widget-view+json": {
       "model_id": "d080a2220d9a4f7a993f563ccd27cbaa",
       "version_major": 2,
       "version_minor": 0
      },
      "text/plain": [
       "Canvas(toolbar=Toolbar(toolitems=[('Home', 'Reset original view', 'home', 'home'), ('Back', 'Back to previous …"
      ]
     },
     "metadata": {},
     "output_type": "display_data"
    }
   ],
   "source": [
    "plt.figure(figsize=(4,4))\n",
    "plt.scatter(X[:,0], X[:,1], edgecolors='k', alpha=.25)\n",
    "plt.scatter([0],[0], color='r', marker='+');\n",
    "plt.axis('equal');"
   ]
  },
  {
   "cell_type": "markdown",
   "metadata": {},
   "source": [
    "&nbsp;\n",
    "\n",
    "### PCA will find directions in the data space that account for the most variance. "
   ]
  },
  {
   "cell_type": "code",
   "execution_count": 7,
   "metadata": {},
   "outputs": [],
   "source": [
    "pca = PCA(n_components=2)\n",
    "Xt = pca.fit_transform(X)"
   ]
  },
  {
   "cell_type": "code",
   "execution_count": 8,
   "metadata": {},
   "outputs": [
    {
     "name": "stdout",
     "output_type": "stream",
     "text": [
      "PCA found MEAN: [ 9.85612407 19.76774448]\n",
      "          VAR : [6.35896771 0.91980212]\n",
      "components    : \n",
      "[[-0.68387188 -0.72960212]\n",
      " [ 0.72960212 -0.68387188]]\n"
     ]
    }
   ],
   "source": [
    "print(f'PCA found MEAN: {pca.mean_}')\n",
    "print(f'          VAR : {pca.explained_variance_}')\n",
    "print(f'components    : \\n{pca.components_}')"
   ]
  },
  {
   "cell_type": "markdown",
   "metadata": {},
   "source": [
    "&nbsp;\n",
    "\n",
    "### Plot with the PCA directions.\n",
    "$\\pm 3\\sigma$ "
   ]
  },
  {
   "cell_type": "code",
   "execution_count": 9,
   "metadata": {},
   "outputs": [
    {
     "data": {
      "application/vnd.jupyter.widget-view+json": {
       "model_id": "038d4d3bf649470393669e9faae1cd25",
       "version_major": 2,
       "version_minor": 0
      },
      "text/plain": [
       "Canvas(toolbar=Toolbar(toolitems=[('Home', 'Reset original view', 'home', 'home'), ('Back', 'Back to previous …"
      ]
     },
     "metadata": {},
     "output_type": "display_data"
    }
   ],
   "source": [
    "plt.figure(figsize=(4,4))\n",
    "\n",
    "# Data and origin\n",
    "plt.scatter(X[:,0], X[:,1], color = 'gray', edgecolors='k', alpha=.25)\n",
    "plt.scatter([0],[0], color='r', marker='+');\n",
    "\n",
    "# mean\n",
    "plt.scatter(pca.mean_[0], pca.mean_[1], color='orange')\n",
    "\n",
    "# pca lines, +- 3 sigma\n",
    "sigmas = np.sqrt(pca.explained_variance_)\n",
    "pca0 = np.array([pca.mean_ - 3*sigmas[0]*pca.components_[0,:], pca.mean_ + 3*sigmas[0]*pca.components_[0,:]])\n",
    "pca1 = np.array([pca.mean_ - 3*sigmas[1]*pca.components_[1,:], pca.mean_ + 3*sigmas[1]*pca.components_[1,:]])\n",
    "\n",
    "plt.plot(pca0[:,0], pca0[:,1], 'c--', linewidth=3)\n",
    "plt.plot(pca1[:,0], pca1[:,1], 'r--', linewidth=3);\n",
    "plt.axis('equal');"
   ]
  },
  {
   "cell_type": "code",
   "execution_count": null,
   "metadata": {},
   "outputs": [],
   "source": []
  },
  {
   "cell_type": "markdown",
   "metadata": {},
   "source": [
    "&nbsp;\n",
    "\n",
    "### Let's reconstruct \n",
    "\n",
    "Very similar to the reconstruction we've done in the past with respect to\n",
    "DCT and Haar. Just more general. \n",
    "\n",
    "Each point is just the mean + sum(coeff*component \n",
    "for every transform coefficient)"
   ]
  },
  {
   "cell_type": "code",
   "execution_count": 10,
   "metadata": {},
   "outputs": [
    {
     "name": "stdout",
     "output_type": "stream",
     "text": [
      "We'll here attempt to reconstruct \n",
      "the point [11.60425054 20.70300155] from its \n",
      "transform [-1.87786008  0.63584075].\n"
     ]
    }
   ],
   "source": [
    "print(f\"We'll here attempt to reconstruct \\n\"\n",
    "      f\"the point {X[0,:]} from its \\n\"\n",
    "      f\"transform {Xt[0,:]}.\")"
   ]
  },
  {
   "cell_type": "code",
   "execution_count": 11,
   "metadata": {},
   "outputs": [
    {
     "name": "stdout",
     "output_type": "stream",
     "text": [
      "Recall\n",
      "PCA is MEAN: [ 9.85612407 19.76774448]\n",
      "       VAR : [6.35896771 0.91980212]\n",
      "components : \n",
      "[[-0.68387188 -0.72960212]\n",
      " [ 0.72960212 -0.68387188]]\n"
     ]
    }
   ],
   "source": [
    "print('Recall')\n",
    "print(f'PCA is MEAN: {pca.mean_}')\n",
    "print(f'       VAR : {pca.explained_variance_}')\n",
    "print(f'components : \\n{pca.components_}')"
   ]
  },
  {
   "cell_type": "code",
   "execution_count": 12,
   "metadata": {},
   "outputs": [
    {
     "name": "stdout",
     "output_type": "stream",
     "text": [
      "The reconstruction is \n",
      "     [ 9.85612407 19.76774448] \n",
      "plus -1.8778600787244497*[-0.68387188 -0.72960212]\n",
      "plus 0.6358407531511734*[ 0.72960212 -0.68387188]\n"
     ]
    }
   ],
   "source": [
    "tp = Xt[0,:]  # transform point.\n",
    "\n",
    "print('The reconstruction is \\n'\n",
    "      f'     {pca.mean_} \\n'\n",
    "      f'plus {tp[0]}*{pca.components_[0,:]}\\n'\n",
    "      f'plus {tp[1]}*{pca.components_[1,:]}')"
   ]
  },
  {
   "cell_type": "code",
   "execution_count": 13,
   "metadata": {},
   "outputs": [
    {
     "name": "stdout",
     "output_type": "stream",
     "text": [
      "rp is [11.14033978 21.13783517] after the first component.\n",
      "rp is [11.60425054 20.70300155] after the second component.\n",
      "\n",
      "So, pretty close to [11.60425054 20.70300155]\n"
     ]
    }
   ],
   "source": [
    "# Add first component\n",
    "rp = pca.mean_ + tp[0]*pca.components_[0,:]\n",
    "print(f'rp is {rp} after the first component.')\n",
    "\n",
    "# Add second component\n",
    "rp += tp[1]*pca.components_[1,:]\n",
    "print(f'rp is {rp} after the second component.\\n')\n",
    "\n",
    "print(f'So, pretty close to {X[0,:]}')"
   ]
  },
  {
   "cell_type": "code",
   "execution_count": null,
   "metadata": {},
   "outputs": [],
   "source": []
  },
  {
   "cell_type": "code",
   "execution_count": null,
   "metadata": {},
   "outputs": [],
   "source": []
  }
 ],
 "metadata": {
  "kernelspec": {
   "display_name": "Python 3",
   "language": "python",
   "name": "python3"
  },
  "language_info": {
   "codemirror_mode": {
    "name": "ipython",
    "version": 3
   },
   "file_extension": ".py",
   "mimetype": "text/x-python",
   "name": "python",
   "nbconvert_exporter": "python",
   "pygments_lexer": "ipython3",
   "version": "3.7.3"
  }
 },
 "nbformat": 4,
 "nbformat_minor": 4
}
