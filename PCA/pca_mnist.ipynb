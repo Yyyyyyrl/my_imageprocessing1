{
 "cells": [
  {
   "cell_type": "markdown",
   "metadata": {},
   "source": [
    "# Playing around with PCA on MNIST data.\n",
    "stough 202-\n",
    "\n",
    "We're going look at Principal Component Analysis and the MNIST data today, and an analogy with some of the block transform and image compression stuff we've done before."
   ]
  },
  {
   "cell_type": "markdown",
   "metadata": {},
   "source": [
    "## Import \n",
    "A lot. We need MNIST data, PCA, and all of our block transform materials."
   ]
  },
  {
   "cell_type": "code",
   "execution_count": 1,
   "metadata": {},
   "outputs": [],
   "source": [
    "%matplotlib inline\n",
    "import matplotlib.pyplot as plt\n",
    "import numpy as np\n",
    "\n",
    "# For the MNIST data\n",
    "from torchvision import datasets, transforms\n",
    "from torchvision.utils import make_grid\n",
    "\n",
    "# For PCA \n",
    "from sklearn.decomposition import PCA\n",
    "\n",
    "from skimage.util import montage\n",
    "\n",
    "# For importing some of our own utility codes.\n",
    "import sys  \n",
    "sys.path.insert(0, '../dip_utils')\n",
    "\n",
    "from matrix_utils import (arr_info,\n",
    "                          make_linmap)\n",
    "from vis_utils import (vis_rgb_cube,\n",
    "                       vis_hists,\n",
    "                       vis_pair)\n",
    "\n",
    "from wavelet_utils import (make_haar_matrix,\n",
    "                           make_random_basis,\n",
    "                           make_klt_basis,\n",
    "                           make_dct_matrix,\n",
    "                           make_standard_matrix,\n",
    "                           vis_blocks)"
   ]
  },
  {
   "cell_type": "markdown",
   "metadata": {},
   "source": [
    "## Loading and Formatting the MNIST Data"
   ]
  },
  {
   "cell_type": "code",
   "execution_count": 2,
   "metadata": {},
   "outputs": [],
   "source": [
    "# Thank you: https://www.aiworkbox.com/lessons/load-mnist-dataset-from-pytorch-torchvision\n",
    "# https://pytorch.org/docs/stable/torchvision/datasets.html\n",
    "mnist_trainset = datasets.MNIST(root='/home/dip365/data', train=True, download=False, transform=None)\n",
    "mnist_testset = datasets.MNIST(root='/home/dip365/data', train=False, download=False, transform=None)\n",
    "\n",
    "x_train = np.stack([np.array(x).ravel() for x,_ in mnist_trainset])\n",
    "x_test = np.stack([np.array(x).ravel() for x,_ in mnist_testset])\n",
    "y_train = np.stack([y for _,y in mnist_trainset]).astype('long')\n",
    "y_test = np.stack([y for _,y in mnist_testset]).astype('long')\n",
    "\n",
    "# These are Nx784\n",
    "x_train = x_train.astype(np.float32)/255.0\n",
    "x_test = x_test.astype(np.float32)/255.0"
   ]
  },
  {
   "cell_type": "code",
   "execution_count": 3,
   "metadata": {},
   "outputs": [
    {
     "data": {
      "text/plain": [
       "((60000, 784), dtype('float32'), 0.0, 1.0)"
      ]
     },
     "execution_count": 3,
     "metadata": {},
     "output_type": "execute_result"
    }
   ],
   "source": [
    "arr_info(x_train)"
   ]
  },
  {
   "cell_type": "code",
   "execution_count": 4,
   "metadata": {},
   "outputs": [
    {
     "data": {
      "text/plain": [
       "((60000,), dtype('int64'), 0, 9)"
      ]
     },
     "execution_count": 4,
     "metadata": {},
     "output_type": "execute_result"
    }
   ],
   "source": [
    "arr_info(y_train)"
   ]
  },
  {
   "cell_type": "code",
   "execution_count": null,
   "metadata": {},
   "outputs": [],
   "source": []
  },
  {
   "cell_type": "markdown",
   "metadata": {},
   "source": [
    "## PCA \n",
    "We'll do a PCA analysis of the MNIST training set to see its power on this kind of data. Let's use [pca_spanFaces](./pca_spanFaces.ipynb) as a guide. Here each row of `x_train` for example represents a $28\\times28$ image. PCA won't know anything about that, and will just think we have 60K points in a 784-D space."
   ]
  },
  {
   "cell_type": "code",
   "execution_count": 5,
   "metadata": {},
   "outputs": [
    {
     "name": "stdout",
     "output_type": "stream",
     "text": [
      "Explained variation per principal component: [0.09704707 0.0709596  0.06169128 0.0538944  0.04868817 0.04312249\n",
      " 0.03271947 0.02883912 0.02762042 0.02357   ]\n"
     ]
    }
   ],
   "source": [
    "# Now get 10 most important 784-d directions in the space of faces.\n",
    "pca = PCA(n_components=10)\n",
    "Xp = pca.fit_transform(x_train) # Xp is actually 60Kx20 here, each of the 320 training images is now projected into the 20-d space\n",
    "print('Explained variation per principal component: {}'.format(pca.explained_variance_ratio_))"
   ]
  },
  {
   "cell_type": "code",
   "execution_count": 6,
   "metadata": {},
   "outputs": [],
   "source": [
    "imshape = (28,28)"
   ]
  },
  {
   "cell_type": "code",
   "execution_count": 7,
   "metadata": {},
   "outputs": [
    {
     "data": {
      "image/png": "[encoded data removed]",
      "text/plain": [
       "<Figure size 648x216 with 3 Axes>"
      ]
     },
     "metadata": {
      "needs_background": "light"
     },
     "output_type": "display_data"
    }
   ],
   "source": [
    "f, ax = plt.subplots(1,3, figsize=(9, 3), sharey=True, sharex=True)\n",
    "f.canvas.set_window_title('Average Face and Two Pricipal Components')\n",
    "ax[0].imshow(np.reshape(x_train.mean(axis=0), imshape), cmap='gray')\n",
    "ax[0].set_title('Average Face')\n",
    "\n",
    "ax[1].imshow(np.reshape(pca.components_[0,:], imshape), cmap='gray')\n",
    "ax[1].set_title('PCA 1')\n",
    "\n",
    "ax[2].imshow(np.reshape(pca.components_[1,:], imshape), cmap='gray')\n",
    "ax[2].set_title('PCA 2');"
   ]
  },
  {
   "cell_type": "code",
   "execution_count": 8,
   "metadata": {},
   "outputs": [
    {
     "ename": "SyntaxError",
     "evalue": "invalid syntax (<ipython-input-8-0ca66e9b6a2f>, line 7)",
     "output_type": "error",
     "traceback": [
      "\u001b[0;36m  File \u001b[0;32m\"<ipython-input-8-0ca66e9b6a2f>\"\u001b[0;36m, line \u001b[0;32m7\u001b[0m\n\u001b[0;31m    whichfaces = np.random.choice(len(x_train)), NUMFACES, replace=False)\u001b[0m\n\u001b[0m                                                                        ^\u001b[0m\n\u001b[0;31mSyntaxError\u001b[0m\u001b[0;31m:\u001b[0m invalid syntax\n"
     ]
    }
   ],
   "source": [
    "# Now scatter some random faces in the pca dimensions.\n",
    "# Xp from above is already 320 x 10, the 10-pca dimensional\n",
    "# projection of each image.\n",
    "\n",
    "# Which images to display is randomized, so that's it's different each time run.\n",
    "np.random.seed() # Comment out this line to ensure the same images are displayed each run.\n",
    "whichfaces = np.random.choice(len(x_train)), NUMFACES, replace=False)\n",
    "xys = Xp[whichfaces, :]\n",
    "\n",
    "\n",
    "f2, ax2 = plt.subplots(figsize=(5,5))\n",
    "f2.canvas.set_window_title('Face PCA Projection Scatter')\n",
    "\n",
    "\"\"\"\n",
    "How to scatter images in a plot, instead of points for example:\n",
    "https://matplotlib.org/examples/pylab_examples/demo_annotation_box.html\n",
    "Also useful:\n",
    "https://stackoverflow.com/questions/22566284/matplotlib-how-to-plot-images-instead-of-points?utm_medium=organic&utm_source=google_rich_qa&utm_campaign=google_rich_qa\n",
    "and:\n",
    "https://stackoverflow.com/questions/48896088/matplotlib-plotting-images-instead-of-points-stretches-images\n",
    "\"\"\"\n",
    "for i, xy in zip(whichfaces, xys):\n",
    "    arr_img = np.reshape(x_train[i, :], imshape)\n",
    "\n",
    "    imagebox = OffsetImage(arr_img, zoom=0.4, cmap='gray')\n",
    "    imagebox.image.axes = ax2\n",
    "\n",
    "    # xy is 10-d here, just need the first 2 to plot though.\n",
    "    ab = AnnotationBbox(imagebox, xy[:2],\n",
    "                        pad=0.2,\n",
    "                        ) # view each image at their specific location\n",
    "\n",
    "    ax2.add_artist(ab)\n",
    "\n",
    "ax2.set_xlim(xys[:,0].min(), xys[:,0].max())\n",
    "ax2.set_ylim(xys[:,1].min(), xys[:,1].max())\n",
    "plt.show()"
   ]
  },
  {
   "cell_type": "code",
   "execution_count": null,
   "metadata": {},
   "outputs": [],
   "source": []
  },
  {
   "cell_type": "code",
   "execution_count": null,
   "metadata": {},
   "outputs": [],
   "source": []
  },
  {
   "cell_type": "code",
   "execution_count": null,
   "metadata": {},
   "outputs": [],
   "source": []
  },
  {
   "cell_type": "markdown",
   "metadata": {},
   "source": [
    "## Thinking about PCA as a pattern basis,\n",
    "like we did with block transforms and image compression."
   ]
  },
  {
   "cell_type": "code",
   "execution_count": null,
   "metadata": {},
   "outputs": [],
   "source": [
    "H = make_klt_basis(np.reshape(x_train[1], (28,28)), size=28)"
   ]
  },
  {
   "cell_type": "code",
   "execution_count": null,
   "metadata": {},
   "outputs": [],
   "source": [
    "vis_blocks(H)"
   ]
  },
  {
   "cell_type": "code",
   "execution_count": null,
   "metadata": {},
   "outputs": [],
   "source": []
  }
 ],
 "metadata": {
  "kernelspec": {
   "display_name": "Python 3",
   "language": "python",
   "name": "python3"
  },
  "language_info": {
   "codemirror_mode": {
    "name": "ipython",
    "version": 3
   },
   "file_extension": ".py",
   "mimetype": "text/x-python",
   "name": "python",
   "nbconvert_exporter": "python",
   "pygments_lexer": "ipython3",
   "version": "3.7.3"
  }
 },
 "nbformat": 4,
 "nbformat_minor": 4
}
