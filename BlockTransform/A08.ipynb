{
 "cells": [
  {
   "cell_type": "code",
   "execution_count": 1,
   "metadata": {},
   "outputs": [],
   "source": [
    "%matplotlib widget\n",
    "import matplotlib.pyplot as plt\n",
    "import numpy as np\n",
    "\n",
    "# For importing from alternative directory sources\n",
    "import sys  \n",
    "sys.path.insert(0, '../dip_utils')\n",
    "\n",
    "from matrix_utils import (arr_info,\n",
    "                          make_linmap)\n",
    "from vis_utils import (vis_rgb_cube,\n",
    "                       vis_hists,\n",
    "                       vis_pair,\n",
    "                       vis_surface)\n",
    "\n",
    "from wavelet_utils import (make_haar_matrix,\n",
    "                           make_random_basis,\n",
    "                           make_klt_basis,\n",
    "                           make_dct_matrix,\n",
    "                           make_standard_matrix,\n",
    "                           vis_blocks)\n",
    "\n",
    "from skimage.util import view_as_blocks\n",
    "from skimage.util import montage\n",
    "from skimage.transform import resize, rescale\n",
    "from ipywidgets import VBox, HBox, FloatSlider"
   ]
  },
  {
   "cell_type": "code",
   "execution_count": 2,
   "metadata": {},
   "outputs": [
    {
     "data": {
      "application/vnd.jupyter.widget-view+json": {
       "model_id": "a558022638194f1cafe67efe896b5b72",
       "version_major": 2,
       "version_minor": 0
      },
      "text/plain": [
       "Canvas(toolbar=Toolbar(toolitems=[('Home', 'Reset original view', 'home', 'home'), ('Back', 'Back to previous …"
      ]
     },
     "metadata": {},
     "output_type": "display_data"
    }
   ],
   "source": [
    "I = plt.imread('../dip_pics/machu.png')\n",
    "I = I[...,:3]\n",
    "I = ((I - I.min()) / (I.max() - I.min()) * 255).astype('uint8') # Normalize the figure before processing\n",
    "vis_hists(I)"
   ]
  },
  {
   "cell_type": "code",
   "execution_count": 3,
   "metadata": {},
   "outputs": [],
   "source": [
    "block_shape = (8,8,3)\n",
    "view = view_as_blocks(I, block_shape)"
   ]
  },
  {
   "cell_type": "code",
   "execution_count": 4,
   "metadata": {},
   "outputs": [],
   "source": [
    "D = make_dct_matrix(8)\n",
    "Q = np.array([[16, 11, 10, 16, 24, 40, 51, 61],\n",
    "              [12, 12, 14, 19, 26, 58, 60, 55],\n",
    "              [14, 13, 16, 24, 40, 57, 69, 56],\n",
    "              [14, 17, 22, 29, 51, 87, 80, 62],\n",
    "              [18, 22, 37, 56, 68, 109, 103, 77],\n",
    "              [24, 35, 55, 64, 81, 104, 113, 92],\n",
    "              [49, 64, 78, 87, 103, 121, 120, 101],\n",
    "              [72, 92, 95, 98, 112, 100, 103, 99]])"
   ]
  },
  {
   "cell_type": "code",
   "execution_count": 5,
   "metadata": {},
   "outputs": [],
   "source": [
    "block_view = np.reshape(view, [view.shape[0]*view.shape[1]] + list(block_shape))"
   ]
  },
  {
   "cell_type": "code",
   "execution_count": 43,
   "metadata": {},
   "outputs": [],
   "source": [
    "def quantize(m):\n",
    "    global block_view\n",
    "    mod_block_view = (np.zeros_like(block_view)).astype('float')\n",
    "    \n",
    "    for i, block in enumerate(block_view):\n",
    "        Ir = (np.zeros_like(block)).astype('float')\n",
    "        for chan in range(3):\n",
    "            block_temp = block[...,chan].astype('float')-128\n",
    "            T = np.matmul(D, np.matmul(block_temp,D.transpose()))\n",
    "            Tq = np.round(T / (m*Q))\n",
    "            Ir[...,chan] = np.matmul(D.transpose(), np.matmul(Tq*m*Q, D)) + 128\n",
    "            \n",
    "        mod_block_view[i] = Ir\n",
    "        \n",
    "    block_grid = np.clip(montage(mod_block_view, grid_shape = view.shape[:2], multichannel=True, padding_width = 0, fill=[1,1,1]),0,255)\n",
    "    return block_grid/255, T, Tq\n",
    "    "
   ]
  },
  {
   "cell_type": "code",
   "execution_count": 46,
   "metadata": {},
   "outputs": [
    {
     "data": {
      "application/vnd.jupyter.widget-view+json": {
       "model_id": "ee939af8802c47d88510ec40506c980f",
       "version_major": 2,
       "version_minor": 0
      },
      "text/plain": [
       "VBox(children=(FloatSlider(value=1.0, description='Quantization Multiples:', max=5.0, min=0.2, step=0.01), Can…"
      ]
     },
     "metadata": {},
     "output_type": "display_data"
    }
   ],
   "source": [
    "plt.ioff()\n",
    "plt.clf()\n",
    "\n",
    "mult_slider = FloatSlider(\n",
    "    orientation = 'horizontal',\n",
    "    value = 1.00,\n",
    "    min = 0.20,\n",
    "    max = 5.00,\n",
    "    step = 0.01,\n",
    "    description = 'Quantization Multiples:'\n",
    ")\n",
    "\n",
    "fig_args = {'num':' ', 'frameon':True, 'sharex':True, 'sharey':True}\n",
    "fig, ax = plt.subplots(1,3, figsize=(8,4), **fig_args)\n",
    "\n",
    "Original = ax[0].imshow(I[240:320,280:320,:])\n",
    "ax[0].set_title('Original Image')\n",
    "Reconstruct = ax[1].imshow(I[240:320,280:320,:])\n",
    "text = ax[1].set_title('Quantized Reconstruction')\n",
    "Coeff = ax[2].imshow(I[240:320,280:320,:])\n",
    "DCTQ = ax[2].set_title('DCT coefficients')\n",
    "\n",
    "def update_image(change):\n",
    "    global Original, Reconstruct, text\n",
    "    Iq, T, Tq = quantize(change.new)\n",
    "    Reconstruct.set_array(Iq[240:320,280:320,:])\n",
    "    text.set_text(f'Quantized Reconstruction \\n with multiple: { format(change.new)}')\n",
    "    Coeff.set_array(Tq)\n",
    "    DCTQ.set_text(f'DCT Coeff with multiple \\n of { format(change.new)}')\n",
    "    fig.canvas.draw()\n",
    "    fig.canvas.flush_events()\n",
    "\n",
    "mult_slider.observe(update_image, names = \"value\")\n",
    "\n",
    "VBox([mult_slider, fig.canvas])"
   ]
  },
  {
   "cell_type": "code",
   "execution_count": null,
   "metadata": {},
   "outputs": [],
   "source": []
  },
  {
   "cell_type": "code",
   "execution_count": null,
   "metadata": {},
   "outputs": [],
   "source": []
  },
  {
   "cell_type": "code",
   "execution_count": null,
   "metadata": {},
   "outputs": [],
   "source": []
  },
  {
   "cell_type": "code",
   "execution_count": null,
   "metadata": {},
   "outputs": [],
   "source": []
  },
  {
   "cell_type": "code",
   "execution_count": null,
   "metadata": {},
   "outputs": [],
   "source": []
  },
  {
   "cell_type": "code",
   "execution_count": null,
   "metadata": {},
   "outputs": [],
   "source": []
  },
  {
   "cell_type": "code",
   "execution_count": null,
   "metadata": {},
   "outputs": [],
   "source": []
  },
  {
   "cell_type": "code",
   "execution_count": null,
   "metadata": {},
   "outputs": [],
   "source": []
  }
 ],
 "metadata": {
  "kernelspec": {
   "display_name": "Python 3",
   "language": "python",
   "name": "python3"
  },
  "language_info": {
   "codemirror_mode": {
    "name": "ipython",
    "version": 3
   },
   "file_extension": ".py",
   "mimetype": "text/x-python",
   "name": "python",
   "nbconvert_exporter": "python",
   "pygments_lexer": "ipython3",
   "version": "3.7.3"
  }
 },
 "nbformat": 4,
 "nbformat_minor": 4
}
