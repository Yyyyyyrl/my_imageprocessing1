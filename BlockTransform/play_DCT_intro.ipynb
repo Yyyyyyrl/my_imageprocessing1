{
 "cells": [
  {
   "cell_type": "markdown",
   "metadata": {},
   "source": [
    "# Discrete Cosine Transform Introduction\n",
    "stough 202-\n",
    "\n",
    "Reading: DIP 6.6, 8.9\n",
    "\n",
    "Throughout this BlockTransform module we have thought about how the numbers we use to describe an image can be more or less efficient based on whether each number represents a single pixel or a whole pattern within a image block. This pattern-based composition of an image can very powerful due to the fact of *spatial coherence* in the images about which we are concerned.\n",
    "\n",
    "We saw in [`view_basis_blocks`](./view_basis_blocks.ipynb) numerous useful basis patterns: \n",
    "\n",
    "- The Standard/Euclidean basis patterns show how we conceptualize an image being displayed, where every coefficient/number represents information about an individual pixel, and all pixels are independent.\n",
    "- The Haar basis patterns showed how we can decompose the energy within a block by representing instead the average of the block plus many larger- and smaller-scale differences from that average.\n",
    "\n",
    "In this notebook we'll look at another basis pattern that is so efficient for natural images (like those you might take with your camera) that it forms the **basis for JPEG compression: the \n",
    "[Discrete Cosine Transform](https://en.wikipedia.org/wiki/Discrete_cosine_transform)**. "
   ]
  },
  {
   "cell_type": "markdown",
   "metadata": {},
   "source": [
    "## [Discrete Cosine transform](https://en.wikipedia.org/wiki/Discrete_cosine_transform) matrix. \n",
    "Each row of this matrix represents a sampled cosine wave with varying frequency over the signal space (s-D space, where s is the number of pixels). In that it satisfies the three conditions we specified above (left to you to prove), it can serve just as well as either of the above two. It is based in Fourier analysis on the idea that any signal can be constructed from [cosine and sine waveforms](https://www.physics.utoronto.ca/~vutha/405_teaching_materials/fourier_expansion_impedance.html).\n",
    "\n",
    "The DCT is even more powerful for natural images because unlike the Standard and Haar bases, here every basis pattern extends over the whole block. In fact, [some form of DCT](https://epubs.siam.org/doi/pdf/10.1137/S0036144598336745) is usually so powerful, it has been adopted for use in [JPEG](https://en.wikipedia.org/wiki/JPEG), [MPEG](https://en.wikipedia.org/wiki/Moving_Picture_Experts_Group), and many other image and video compression standards.\n",
    "\n",
    "- [Syed Ali Khayam: The Discrete Cosine Transform (DCT): Theory and Application](https://gitlab.bucknell.edu/jvs008/dip365/blob/master/Readings/Khayam03_DCT_inDepth.pdf)\n",
    "- [R. J. Clarke, Image and Video Compression: A Survey](https://gitlab.bucknell.edu/jvs008/dip365/blob/master/Readings/Clarke99_ImageVideoCompressionSurvey.pdf)\n",
    "\n",
    "Recall $s$ is the number of pixels, i.e. the size of our square matrix. The first row is again the mean, while later rows ($u$) are sampled (by column $j$) cosines:\n",
    "\n",
    "\\begin{equation*} \n",
    "DCT_0 = \\sqrt \\frac{1}{s} \\\\\n",
    "DCT_u = \\sqrt \\frac{2}{s}cos\\Bigl(\\frac{(2j+1)u\\pi}{2s}\\Bigr), j = 0,\\dots,s-1, u = 1,\\dots,s-1\n",
    "\\end{equation*} "
   ]
  },
  {
   "cell_type": "code",
   "execution_count": 1,
   "metadata": {},
   "outputs": [],
   "source": [
    "%matplotlib widget\n",
    "import matplotlib.pyplot as plt\n",
    "import numpy as np\n",
    "\n",
    "# For importing from alternative directory sources\n",
    "import sys  \n",
    "sys.path.insert(0, '../dip_utils')\n",
    "\n",
    "from matrix_utils import (arr_info,\n",
    "                          make_linmap)\n",
    "from vis_utils import (vis_rgb_cube,\n",
    "                       vis_hists,\n",
    "                       vis_pair,\n",
    "                       vis_surface)\n",
    "\n",
    "from wavelet_utils import (make_haar_matrix,\n",
    "                           make_random_basis,\n",
    "                           make_klt_basis,\n",
    "                           make_dct_matrix,\n",
    "                           make_standard_matrix,\n",
    "                           vis_blocks)"
   ]
  },
  {
   "cell_type": "markdown",
   "metadata": {},
   "source": [
    "## 1. Start by plotting the relevant 2N-periodic cosine function (and [remembering what such a thing is](http://www.purplemath.com/modules/triggrph.htm):\n",
    "\n",
    "\\begin{equation*} \n",
    "cos\\Bigl(\\frac{(2j+1)u\\pi}{2s}\\Bigr), j = 0,\\dots,s-1, u = 1,\\dots,s-1\n",
    "\\end{equation*} "
   ]
  },
  {
   "cell_type": "code",
   "execution_count": 2,
   "metadata": {},
   "outputs": [
    {
     "data": {
      "application/vnd.jupyter.widget-view+json": {
       "model_id": "1b03c8ffdc02496f8ac006e331c5b4d8",
       "version_major": 2,
       "version_minor": 0
      },
      "text/plain": [
       "Canvas(toolbar=Toolbar(toolitems=[('Home', 'Reset original view', 'home', 'home'), ('Back', 'Back to previous …"
      ]
     },
     "metadata": {},
     "output_type": "display_data"
    },
    {
     "data": {
      "text/plain": [
       "[<matplotlib.lines.Line2D at 0x7fe5671593c8>]"
      ]
     },
     "execution_count": 2,
     "metadata": {},
     "output_type": "execute_result"
    }
   ],
   "source": [
    "N = 8 # or 16 or whatever\n",
    "x = np.arange(0, 2*N, .01)\n",
    "s = lambda x,u,N: np.cos(((2*x + 1)*u*np.pi)/(2*N))\n",
    "plt.figure(figsize=(8,2))\n",
    "plt.plot(x, s(x,3,N))"
   ]
  },
  {
   "cell_type": "markdown",
   "metadata": {},
   "source": [
    "## 2. Add plots for additional values of u up to N-1 (just rerun the last line with different u) . Show."
   ]
  },
  {
   "cell_type": "code",
   "execution_count": 3,
   "metadata": {},
   "outputs": [
    {
     "data": {
      "application/vnd.jupyter.widget-view+json": {
       "model_id": "81d452ca75e141da966ac5387d4ae884",
       "version_major": 2,
       "version_minor": 0
      },
      "text/plain": [
       "Canvas(toolbar=Toolbar(toolitems=[('Home', 'Reset original view', 'home', 'home'), ('Back', 'Back to previous …"
      ]
     },
     "metadata": {},
     "output_type": "display_data"
    },
    {
     "data": {
      "text/plain": [
       "<matplotlib.legend.Legend at 0x7fe566bb5e48>"
      ]
     },
     "execution_count": 3,
     "metadata": {},
     "output_type": "execute_result"
    }
   ],
   "source": [
    "plt.figure(figsize=(12,3))\n",
    "plt.plot(x,s(x,0,N),label = \"u=0\")\n",
    "plt.plot(x,s(x,1,N),label = \"u=1\")\n",
    "plt.plot(x,s(x,3,N),label = \"u=3\")\n",
    "plt.plot(x,s(x,5,N),label = \"u=5\")\n",
    "plt.plot(x,s(x,N-1,N),label = \"u=N-1\")\n",
    "plt.legend()"
   ]
  },
  {
   "cell_type": "markdown",
   "metadata": {},
   "source": [
    "## 3. On a relatively clean plot, with maybe just one or two of the above, additionally use plt.scatter and show the function values at integer x, as in: `xp = np.arange(0, 2*N)`\n"
   ]
  },
  {
   "cell_type": "code",
   "execution_count": 4,
   "metadata": {},
   "outputs": [
    {
     "data": {
      "application/vnd.jupyter.widget-view+json": {
       "model_id": "8561da84f211490f845bd0e65a0da2e7",
       "version_major": 2,
       "version_minor": 0
      },
      "text/plain": [
       "Canvas(toolbar=Toolbar(toolitems=[('Home', 'Reset original view', 'home', 'home'), ('Back', 'Back to previous …"
      ]
     },
     "metadata": {},
     "output_type": "display_data"
    },
    {
     "data": {
      "text/plain": [
       "<matplotlib.legend.Legend at 0x7fe566ae5828>"
      ]
     },
     "execution_count": 4,
     "metadata": {},
     "output_type": "execute_result"
    }
   ],
   "source": [
    "xp = np.arange(0,2*N)\n",
    "plt.figure(figsize=(12,3))\n",
    "plt.plot(x,s(x,3,N),label = \"u=3\")\n",
    "plt.plot(x,s(x,N-1,N),label = \"u=N-1\")\n",
    "plt.scatter(xp,s(xp,3,N),label = \"u=3\")\n",
    "plt.scatter(xp,s(xp,N-1,N), label = \"u=N-1\")\n",
    "plt.legend()"
   ]
  },
  {
   "cell_type": "markdown",
   "metadata": {},
   "source": [
    "## 4. What does the below show (* is an element-wise multiply)?"
   ]
  },
  {
   "cell_type": "code",
   "execution_count": 5,
   "metadata": {},
   "outputs": [
    {
     "name": "stdout",
     "output_type": "stream",
     "text": [
      "1.4210854715202004e-14\n",
      "1.4210854715202004e-14\n"
     ]
    }
   ],
   "source": [
    "print((s(x,1,8)*s(x,2,8)).sum())\n",
    "print((s(x,4,8)*s(x,7,8)).sum())"
   ]
  },
  {
   "cell_type": "code",
   "execution_count": 6,
   "metadata": {},
   "outputs": [],
   "source": [
    "xp = np.arange(8)\n",
    "p1 = s(xp,1,8)\n",
    "p2 = s(xp,2,8)"
   ]
  },
  {
   "cell_type": "code",
   "execution_count": 7,
   "metadata": {},
   "outputs": [
    {
     "data": {
      "application/vnd.jupyter.widget-view+json": {
       "model_id": "0edbfea98c6248d08501e454b6c4437f",
       "version_major": 2,
       "version_minor": 0
      },
      "text/plain": [
       "Canvas(toolbar=Toolbar(toolitems=[('Home', 'Reset original view', 'home', 'home'), ('Back', 'Back to previous …"
      ]
     },
     "metadata": {},
     "output_type": "display_data"
    },
    {
     "data": {
      "text/plain": [
       "<matplotlib.legend.Legend at 0x7fe566a749b0>"
      ]
     },
     "execution_count": 7,
     "metadata": {},
     "output_type": "execute_result"
    }
   ],
   "source": [
    "plt.figure()\n",
    "plt.plot(p1, label = \"p1\")\n",
    "plt.plot(p2, label = \"p2\")\n",
    "plt.plot(p1*p2, label = \"p1*p2\")\n",
    "plt.legend()"
   ]
  },
  {
   "cell_type": "code",
   "execution_count": null,
   "metadata": {},
   "outputs": [],
   "source": []
  },
  {
   "cell_type": "code",
   "execution_count": null,
   "metadata": {},
   "outputs": [],
   "source": []
  },
  {
   "cell_type": "markdown",
   "metadata": {},
   "source": [
    "## 5. Show `plt.imshow(make_dct_matrix(8))`)"
   ]
  },
  {
   "cell_type": "code",
   "execution_count": 8,
   "metadata": {},
   "outputs": [
    {
     "data": {
      "application/vnd.jupyter.widget-view+json": {
       "model_id": "15ad193bd4a34eca96479377050b7fb9",
       "version_major": 2,
       "version_minor": 0
      },
      "text/plain": [
       "Canvas(toolbar=Toolbar(toolitems=[('Home', 'Reset original view', 'home', 'home'), ('Back', 'Back to previous …"
      ]
     },
     "metadata": {},
     "output_type": "display_data"
    }
   ],
   "source": [
    "M = make_dct_matrix(8)\n",
    "vis_blocks(M)"
   ]
  },
  {
   "cell_type": "code",
   "execution_count": 9,
   "metadata": {},
   "outputs": [
    {
     "data": {
      "application/vnd.jupyter.widget-view+json": {
       "model_id": "738eec575d1f4e989558e19208669877",
       "version_major": 2,
       "version_minor": 0
      },
      "text/plain": [
       "Canvas(toolbar=Toolbar(toolitems=[('Home', 'Reset original view', 'home', 'home'), ('Back', 'Back to previous …"
      ]
     },
     "metadata": {},
     "output_type": "display_data"
    },
    {
     "data": {
      "text/plain": [
       "<matplotlib.image.AxesImage at 0x7fe55f744898>"
      ]
     },
     "execution_count": 9,
     "metadata": {},
     "output_type": "execute_result"
    }
   ],
   "source": [
    "plt.figure()\n",
    "plt.imshow(M)"
   ]
  },
  {
   "cell_type": "code",
   "execution_count": null,
   "metadata": {},
   "outputs": [],
   "source": []
  }
 ],
 "metadata": {
  "kernelspec": {
   "display_name": "Python 3",
   "language": "python",
   "name": "python3"
  },
  "language_info": {
   "codemirror_mode": {
    "name": "ipython",
    "version": 3
   },
   "file_extension": ".py",
   "mimetype": "text/x-python",
   "name": "python",
   "nbconvert_exporter": "python",
   "pygments_lexer": "ipython3",
   "version": "3.7.3"
  }
 },
 "nbformat": 4,
 "nbformat_minor": 4
}
