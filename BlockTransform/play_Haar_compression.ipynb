{
 "cells": [
  {
   "cell_type": "markdown",
   "metadata": {},
   "source": [
    "# Haar Compression Activity\n",
    "stough 202-\n",
    "\n",
    "DIP 6, 8.9\n",
    "\n",
    "In this activity you're going to use the Haar wavelet block transform and lossy compression in two different contexts\n",
    "\n",
    "- A single $4x4$ single-channel \"image\" block with fairly high contrast.\n",
    "- A larger color image with $8x8$ blocks.\n",
    "\n",
    "In each case we're going to \n",
    "\n",
    "- Transform: Turn a block of image pixels into a block of Haar wavelet coefficients. \n",
    "- Compress: We're going to effectively compress by zeroing out insigficant/small coefficients.\n",
    "- Reconstruct: Take the \"compressed\" coefficent block and reconstruct the block of image pixels, with some loss.\n",
    "\n",
    "Recall from [`view_basis_blocks`](./view_basis_blocks.ipynb) that the Haar $4x4$ transform matrix is like so:\n",
    "\n",
    "\\begin{equation*}\n",
    "\\mathbf{H_{Haar}} =  \\frac{1}{2}\\begin{vmatrix}\n",
    "1 & 1 & 1 & 1\\\\\n",
    "1 & 1 & -1 & -1 \\\\\n",
    "{\\sqrt 2} & -{\\sqrt 2} & 0 & 0 \\\\\n",
    "0 & 0 & {\\sqrt 2} & -{\\sqrt 2}\n",
    "\\end{vmatrix}\n",
    "\\end{equation*}\n",
    "\n",
    "To transform a block of pixels $\\mathbf{B}$ into a block of coefficients:\n",
    "\n",
    "\\begin{equation*}\n",
    "\\mathbf{T} = \\mathbf{H}\\times\\mathbf{B}\\times\\mathbf{H}^T\n",
    "\\end{equation*}\n",
    "\n",
    "where $\\mathbf{H}^T$ is the transpose. Through the above we basically replace the set of independent pixels with the set of coefficients with respect to the Haar basis patterns, as we'll see with `vis_blocks`. Once we have $\\mathbf{T}$, we can quantize it to the degree that we wish, zeroing out small coefficients, potentially replacing large coefficients with nearby approximations on a standard grade (e.g. replace anything in $[236,276]$ with $256$). \n",
    "\n",
    "To reconstruct the original $\\mathbf{B}$, we can simply\n",
    "\n",
    "\\begin{equation*}\n",
    "\\mathbf{B} = \\mathbf{H}^T\\times\\mathbf{T}\\times\\mathbf{H}\n",
    "\\end{equation*}"
   ]
  },
  {
   "cell_type": "markdown",
   "metadata": {},
   "source": [
    "## Imports\n",
    "We're going to use [`wavelet_utils`](../dip_utils/wavelet_utils.py)."
   ]
  },
  {
   "cell_type": "code",
   "execution_count": 2,
   "metadata": {},
   "outputs": [],
   "source": [
    "%matplotlib widget\n",
    "import matplotlib.pyplot as plt\n",
    "import numpy as np\n",
    "\n",
    "# For importing from alternative directory sources\n",
    "import sys  \n",
    "sys.path.insert(0, '../dip_utils')\n",
    "\n",
    "from matrix_utils import (arr_info,\n",
    "                          make_linmap)\n",
    "from vis_utils import (vis_rgb_cube,\n",
    "                       vis_hists,\n",
    "                       vis_pair,\n",
    "                       vis_surface)\n",
    "\n",
    "from wavelet_utils import (make_haar_matrix,\n",
    "                           make_random_basis,\n",
    "                           make_klt_basis,\n",
    "                           make_dct_matrix,\n",
    "                           make_standard_matrix,\n",
    "                           vis_blocks)"
   ]
  },
  {
   "cell_type": "markdown",
   "metadata": {},
   "source": [
    "## 1. $4\\times4$ Haar Wavelet Compression\n",
    "Use `make_haar_matrix` and `vis_blocks` to see the 16 Haar patterns for the $\\mathbf{H_{Haar}}$ matrix"
   ]
  },
  {
   "cell_type": "code",
   "execution_count": 16,
   "metadata": {},
   "outputs": [
    {
     "data": {
      "application/vnd.jupyter.widget-view+json": {
       "model_id": "bdfd4d59fad541938e8ae55c74e07c8e",
       "version_major": 2,
       "version_minor": 0
      },
      "text/plain": [
       "Canvas(toolbar=Toolbar(toolitems=[('Home', 'Reset original view', 'home', 'home'), ('Back', 'Back to previous …"
      ]
     },
     "metadata": {},
     "output_type": "display_data"
    }
   ],
   "source": [
    "H = make_haar_matrix(4)\n",
    "vis_blocks(H)"
   ]
  },
  {
   "cell_type": "markdown",
   "metadata": {},
   "source": [
    "### Transform a $4\\times4$ block of pixels.\n",
    "We'll define the block of pixels in question. Then you transform it into the coefficient block $\\mathbf{T}$. See [`np.matmul`](https://numpy.org/doc/stable/reference/generated/numpy.matmul.html) to compute $\\mathbf{H}\\times\\mathbf{B}\\times\\mathbf{H}^T$."
   ]
  },
  {
   "cell_type": "code",
   "execution_count": 4,
   "metadata": {},
   "outputs": [
    {
     "data": {
      "application/vnd.jupyter.widget-view+json": {
       "model_id": "a0005d83b85748d39ab303a72eae23a0",
       "version_major": 2,
       "version_minor": 0
      },
      "text/plain": [
       "Canvas(toolbar=Toolbar(toolitems=[('Home', 'Reset original view', 'home', 'home'), ('Back', 'Back to previous …"
      ]
     },
     "metadata": {},
     "output_type": "display_data"
    },
    {
     "data": {
      "text/plain": [
       "<matplotlib.image.AxesImage at 0x7f7c0ca64e48>"
      ]
     },
     "execution_count": 4,
     "metadata": {},
     "output_type": "execute_result"
    }
   ],
   "source": [
    "B = np.array([[0,1,1,1],\n",
    "              [0,1,0,0],\n",
    "              [0,1,1,1],\n",
    "              [0,1,0,0]])\n",
    "\n",
    "plt.figure(figsize=(4,4))\n",
    "plt.imshow(B, cmap='gray')"
   ]
  },
  {
   "cell_type": "code",
   "execution_count": 5,
   "metadata": {},
   "outputs": [],
   "source": [
    "HT = H.transpose()"
   ]
  },
  {
   "cell_type": "code",
   "execution_count": null,
   "metadata": {},
   "outputs": [],
   "source": []
  },
  {
   "cell_type": "code",
   "execution_count": 8,
   "metadata": {},
   "outputs": [],
   "source": [
    "# Haar basis for 2*2 {[1,1],[1,-1]}\n",
    "# H B H^T = {[1,1],[1,-1]}*{[a,b],[c,d]}*{[1,1],[1,-1]}^T = {[a+b+c+d,a-b+c-d],[a+b-c-d, a-b-c+d]}"
   ]
  },
  {
   "cell_type": "code",
   "execution_count": 17,
   "metadata": {},
   "outputs": [],
   "source": [
    "T = np.matmul(H,np.matmul(B,HT)) # 16 coefficient of energy required w.r.t the basis (don't call vis_blocks, which does outer product to it)"
   ]
  },
  {
   "cell_type": "code",
   "execution_count": 18,
   "metadata": {},
   "outputs": [
    {
     "data": {
      "text/plain": [
       "array([[ 2.00000000e+00,  0.00000000e+00, -1.41421356e+00,\n",
       "         0.00000000e+00],\n",
       "       [ 0.00000000e+00,  0.00000000e+00,  0.00000000e+00,\n",
       "         0.00000000e+00],\n",
       "       [ 7.07106781e-01, -7.07106781e-01, -4.26642159e-17,\n",
       "         0.00000000e+00],\n",
       "       [ 7.07106781e-01, -7.07106781e-01, -4.26642159e-17,\n",
       "         0.00000000e+00]])"
      ]
     },
     "execution_count": 18,
     "metadata": {},
     "output_type": "execute_result"
    }
   ],
   "source": [
    "T"
   ]
  },
  {
   "cell_type": "code",
   "execution_count": 21,
   "metadata": {},
   "outputs": [
    {
     "data": {
      "application/vnd.jupyter.widget-view+json": {
       "model_id": "9cf133ca5dd04cfa8a969258f3da1c1b",
       "version_major": 2,
       "version_minor": 0
      },
      "text/plain": [
       "Canvas(toolbar=Toolbar(toolitems=[('Home', 'Reset original view', 'home', 'home'), ('Back', 'Back to previous …"
      ]
     },
     "metadata": {},
     "output_type": "display_data"
    },
    {
     "data": {
      "text/plain": [
       "<matplotlib.image.AxesImage at 0x7f7c015a21d0>"
      ]
     },
     "execution_count": 21,
     "metadata": {},
     "output_type": "execute_result"
    }
   ],
   "source": [
    "plt.figure()\n",
    "plt.imshow(T, cmap='gray')"
   ]
  },
  {
   "cell_type": "markdown",
   "metadata": {},
   "source": [
    "### A. Viewing the transform coefficients in the matrix $\\mathbf{T}$, what are the row and column coords for the two largest coefficients (in absolute value)?"
   ]
  },
  {
   "cell_type": "code",
   "execution_count": 23,
   "metadata": {},
   "outputs": [
    {
     "data": {
      "text/plain": [
       "array([[ 0.5       ,  0.5       ,  0.5       ,  0.5       ],\n",
       "       [ 0.5       ,  0.5       , -0.5       , -0.5       ],\n",
       "       [ 0.70710678, -0.70710678,  0.        ,  0.        ],\n",
       "       [ 0.        ,  0.        ,  0.70710678, -0.70710678]])"
      ]
     },
     "execution_count": 23,
     "metadata": {},
     "output_type": "execute_result"
    }
   ],
   "source": [
    "H # The haar matrix"
   ]
  },
  {
   "cell_type": "code",
   "execution_count": 26,
   "metadata": {},
   "outputs": [],
   "source": [
    "B0 = np.outer(H[0,...], H[0,...])\n",
    "B1 = np.outer(H[0],H[2])"
   ]
  },
  {
   "cell_type": "code",
   "execution_count": 27,
   "metadata": {},
   "outputs": [
    {
     "data": {
      "text/plain": [
       "array([[ 0.35355339, -0.35355339,  0.        ,  0.        ],\n",
       "       [ 0.35355339, -0.35355339,  0.        ,  0.        ],\n",
       "       [ 0.35355339, -0.35355339,  0.        ,  0.        ],\n",
       "       [ 0.35355339, -0.35355339,  0.        ,  0.        ]])"
      ]
     },
     "execution_count": 27,
     "metadata": {},
     "output_type": "execute_result"
    }
   ],
   "source": [
    "B1"
   ]
  },
  {
   "cell_type": "code",
   "execution_count": 32,
   "metadata": {},
   "outputs": [
    {
     "data": {
      "application/vnd.jupyter.widget-view+json": {
       "model_id": "72d4ee53615b49c0baa80c93d160a167",
       "version_major": 2,
       "version_minor": 0
      },
      "text/plain": [
       "Canvas(toolbar=Toolbar(toolitems=[('Home', 'Reset original view', 'home', 'home'), ('Back', 'Back to previous …"
      ]
     },
     "metadata": {},
     "output_type": "display_data"
    },
    {
     "data": {
      "text/plain": [
       "<matplotlib.image.AxesImage at 0x7f7c0133a518>"
      ]
     },
     "execution_count": 32,
     "metadata": {},
     "output_type": "execute_result"
    }
   ],
   "source": [
    "# B = 2*B0 + -1.41*B1 + ... coefficients are observed in T\n",
    "plt.figure()\n",
    "plt.imshow(2*B0 - 1.41421356*B1, cmap='gray', vmin=0, vmax=1)"
   ]
  },
  {
   "cell_type": "code",
   "execution_count": 33,
   "metadata": {},
   "outputs": [
    {
     "data": {
      "text/plain": [
       "array([[ 0.35355339,  0.35355339,  0.35355339,  0.35355339],\n",
       "       [-0.35355339, -0.35355339, -0.35355339, -0.35355339],\n",
       "       [ 0.        ,  0.        ,  0.        ,  0.        ],\n",
       "       [ 0.        ,  0.        ,  0.        ,  0.        ]])"
      ]
     },
     "execution_count": 33,
     "metadata": {},
     "output_type": "execute_result"
    }
   ],
   "source": [
    "B2 = np.outer(H[2],H[0])\n",
    "B2"
   ]
  },
  {
   "cell_type": "code",
   "execution_count": 34,
   "metadata": {},
   "outputs": [
    {
     "data": {
      "application/vnd.jupyter.widget-view+json": {
       "model_id": "00b1f509a8514804b7f1c5aad6d2d555",
       "version_major": 2,
       "version_minor": 0
      },
      "text/plain": [
       "Canvas(toolbar=Toolbar(toolitems=[('Home', 'Reset original view', 'home', 'home'), ('Back', 'Back to previous …"
      ]
     },
     "metadata": {},
     "output_type": "display_data"
    },
    {
     "data": {
      "text/plain": [
       "<matplotlib.image.AxesImage at 0x7f7c012b5a90>"
      ]
     },
     "execution_count": 34,
     "metadata": {},
     "output_type": "execute_result"
    }
   ],
   "source": [
    "plt.figure()\n",
    "plt.imshow(2*B0 - 1.41421356*B1 + .707106781*B2, cmap='gray', vmin=0, vmax=1)"
   ]
  },
  {
   "cell_type": "code",
   "execution_count": null,
   "metadata": {},
   "outputs": [],
   "source": []
  },
  {
   "cell_type": "markdown",
   "metadata": {},
   "source": [
    "### B. Show the two basis blocks corresponding to those two coefficients."
   ]
  },
  {
   "cell_type": "code",
   "execution_count": null,
   "metadata": {},
   "outputs": [],
   "source": []
  },
  {
   "cell_type": "markdown",
   "metadata": {},
   "source": [
    "### C. Show and explain as explicitly as you can how the two coefficients are what they are."
   ]
  },
  {
   "cell_type": "code",
   "execution_count": null,
   "metadata": {},
   "outputs": [],
   "source": []
  },
  {
   "cell_type": "markdown",
   "metadata": {},
   "source": [
    "### D. Show the reconstruction of the image $\\mathbf{B}$ using only those basis blocks/coefficients. \n",
    "Is this reconstruction trending in the right direction? Explain"
   ]
  },
  {
   "cell_type": "code",
   "execution_count": null,
   "metadata": {},
   "outputs": [],
   "source": []
  },
  {
   "cell_type": "code",
   "execution_count": null,
   "metadata": {},
   "outputs": [],
   "source": []
  },
  {
   "cell_type": "markdown",
   "metadata": {},
   "source": [
    "## 2. Larger Image Block Transform and Reconstruction.\n",
    "Use the code in [`block_viewing_demo`](./block_viewing_demo.ipynb) and [`basis_decomp_64pix.ipynb`](./basis_decomp_64pix.ipynb) to perform a similar transform/compress/reconstruct sequence on a larger image of your choice. \n",
    "\n",
    "- Use $8\\times8$ blocks.\n",
    "- Use [`resize`](https://scikit-image.org/docs/dev/api/skimage.transform.html?highlight=resize#skimage.transform.resize) on the image you choose to ensure that $8$ evenly divides it in height and width. This is for convenience: compression schemes have other mechanisms to deal with odd-shaped images, which we will ignore here.\n",
    "- Perform reconstructions using the largest $[1,2,4,8,16]$ coefficients in absolute value per block. Note that keeping $16$ coefficients is equivalent to $\\sim 3$x compression. \n",
    "- For at least the reconstructions using $[2,4]$, use `vis_pair` and zoom into an area to observe the effectiveness of the reconstruction on such limit basis (32x, 16x compression).  \n",
    "\n",
    "You can **export this notebook** as a PDF to submit this work."
   ]
  },
  {
   "cell_type": "code",
   "execution_count": null,
   "metadata": {},
   "outputs": [],
   "source": []
  }
 ],
 "metadata": {
  "kernelspec": {
   "display_name": "Python 3",
   "language": "python",
   "name": "python3"
  },
  "language_info": {
   "codemirror_mode": {
    "name": "ipython",
    "version": 3
   },
   "file_extension": ".py",
   "mimetype": "text/x-python",
   "name": "python",
   "nbconvert_exporter": "python",
   "pygments_lexer": "ipython3",
   "version": "3.7.3"
  }
 },
 "nbformat": 4,
 "nbformat_minor": 4
}
