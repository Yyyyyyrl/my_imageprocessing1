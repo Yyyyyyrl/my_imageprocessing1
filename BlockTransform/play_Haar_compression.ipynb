{
 "cells": [
  {
   "cell_type": "markdown",
   "metadata": {},
   "source": [
    "# Haar Compression Activity\n",
    "stough 202-\n",
    "\n",
    "DIP 6, 8.9\n",
    "\n",
    "In this activity you're going to use the Haar wavelet block transform and lossy compression in two different contexts\n",
    "\n",
    "- A single $4x4$ single-channel \"image\" block with fairly high contrast.\n",
    "- A larger color image with $8x8$ blocks.\n",
    "\n",
    "In each case we're going to \n",
    "\n",
    "- Transform: Turn a block of image pixels into a block of Haar wavelet coefficients. \n",
    "- Compress: We're going to effectively compress by zeroing out insigficant/small coefficients.\n",
    "- Reconstruct: Take the \"compressed\" coefficent block and reconstruct the block of image pixels, with some loss.\n",
    "\n",
    "Recall from [`view_basis_blocks`](./view_basis_blocks.ipynb) that the Haar $4x4$ transform matrix is like so:\n",
    "\n",
    "\\begin{equation*}\n",
    "\\mathbf{H_{Haar}} =  \\frac{1}{2}\\begin{vmatrix}\n",
    "1 & 1 & 1 & 1\\\\\n",
    "1 & 1 & -1 & -1 \\\\\n",
    "{\\sqrt 2} & -{\\sqrt 2} & 0 & 0 \\\\\n",
    "0 & 0 & {\\sqrt 2} & -{\\sqrt 2}\n",
    "\\end{vmatrix}\n",
    "\\end{equation*}\n",
    "\n",
    "To transform a block of pixels $\\mathbf{B}$ into a block of coefficients:\n",
    "\n",
    "\\begin{equation*}\n",
    "\\mathbf{T} = \\mathbf{H}\\times\\mathbf{B}\\times\\mathbf{H}^T\n",
    "\\end{equation*}\n",
    "\n",
    "where $\\mathbf{H}^T$ is the transpose. Through the above we basically replace the set of independent pixels with the set of coefficients with respect to the Haar basis patterns, as we'll see with `vis_blocks`. Once we have $\\mathbf{T}$, we can quantize it to the degree that we wish, zeroing out small coefficients, potentially replacing large coefficients with nearby approximations on a standard grade (e.g. replace anything in $[236,276]$ with $256$). \n",
    "\n",
    "To reconstruct the original $\\mathbf{B}$, we can simply\n",
    "\n",
    "\\begin{equation*}\n",
    "\\mathbf{B} = \\mathbf{H}^T\\times\\mathbf{T}\\times\\mathbf{H}\n",
    "\\end{equation*}"
   ]
  },
  {
   "cell_type": "markdown",
   "metadata": {},
   "source": [
    "## Imports\n",
    "We're going to use [`wavelet_utils`](../dip_utils/wavelet_utils.py)."
   ]
  },
  {
   "cell_type": "code",
   "execution_count": 1,
   "metadata": {},
   "outputs": [],
   "source": [
    "%matplotlib widget\n",
    "import matplotlib.pyplot as plt\n",
    "import numpy as np\n",
    "\n",
    "# For importing from alternative directory sources\n",
    "import sys  \n",
    "sys.path.insert(0, '../dip_utils')\n",
    "\n",
    "from matrix_utils import (arr_info,\n",
    "                          make_linmap)\n",
    "from vis_utils import (vis_rgb_cube,\n",
    "                       vis_hists,\n",
    "                       vis_pair,\n",
    "                       vis_surface)\n",
    "\n",
    "from wavelet_utils import (make_haar_matrix,\n",
    "                           make_random_basis,\n",
    "                           make_klt_basis,\n",
    "                           make_dct_matrix,\n",
    "                           make_standard_matrix,\n",
    "                           vis_blocks)\n",
    "\n",
    "\n",
    "from skimage.util import view_as_blocks\n",
    "from skimage.util import montage\n",
    "from skimage.transform import resize, rescale"
   ]
  },
  {
   "cell_type": "markdown",
   "metadata": {},
   "source": [
    "## 1. $4\\times4$ Haar Wavelet Compression\n",
    "Use `make_haar_matrix` and `vis_blocks` to see the 16 Haar patterns for the $\\mathbf{H_{Haar}}$ matrix"
   ]
  },
  {
   "cell_type": "code",
   "execution_count": 2,
   "metadata": {},
   "outputs": [
    {
     "data": {
      "application/vnd.jupyter.widget-view+json": {
       "model_id": "fb6b47b2cddb44849caa8b362f34a3a6",
       "version_major": 2,
       "version_minor": 0
      },
      "text/plain": [
       "Canvas(toolbar=Toolbar(toolitems=[('Home', 'Reset original view', 'home', 'home'), ('Back', 'Back to previous …"
      ]
     },
     "metadata": {},
     "output_type": "display_data"
    }
   ],
   "source": [
    "H = make_haar_matrix(4)\n",
    "vis_blocks(H)"
   ]
  },
  {
   "cell_type": "markdown",
   "metadata": {},
   "source": [
    "### Transform a $4\\times4$ block of pixels.\n",
    "We'll define the block of pixels in question. Then you transform it into the coefficient block $\\mathbf{T}$. See [`np.matmul`](https://numpy.org/doc/stable/reference/generated/numpy.matmul.html) to compute $\\mathbf{H}\\times\\mathbf{B}\\times\\mathbf{H}^T$."
   ]
  },
  {
   "cell_type": "code",
   "execution_count": 3,
   "metadata": {},
   "outputs": [
    {
     "data": {
      "application/vnd.jupyter.widget-view+json": {
       "model_id": "999d01744f3e4756a49acac0a9f95ab1",
       "version_major": 2,
       "version_minor": 0
      },
      "text/plain": [
       "Canvas(toolbar=Toolbar(toolitems=[('Home', 'Reset original view', 'home', 'home'), ('Back', 'Back to previous …"
      ]
     },
     "metadata": {},
     "output_type": "display_data"
    },
    {
     "data": {
      "text/plain": [
       "<matplotlib.image.AxesImage at 0x7f94ceae6d30>"
      ]
     },
     "execution_count": 3,
     "metadata": {},
     "output_type": "execute_result"
    }
   ],
   "source": [
    "B = np.array([[0,1,1,1],\n",
    "              [0,1,0,0],\n",
    "              [0,1,1,1],\n",
    "              [0,1,0,0]])\n",
    "\n",
    "plt.figure(figsize=(4,4))\n",
    "plt.imshow(B, cmap='gray')"
   ]
  },
  {
   "cell_type": "code",
   "execution_count": 4,
   "metadata": {},
   "outputs": [],
   "source": [
    "HT = H.transpose()"
   ]
  },
  {
   "cell_type": "code",
   "execution_count": 5,
   "metadata": {},
   "outputs": [],
   "source": [
    "# Haar basis for 2*2 {[1,1],[1,-1]}\n",
    "# H B H^T = {[1,1],[1,-1]}*{[a,b],[c,d]}*{[1,1],[1,-1]}^T = {[a+b+c+d,a-b+c-d],[a+b-c-d, a-b-c+d]}"
   ]
  },
  {
   "cell_type": "code",
   "execution_count": 6,
   "metadata": {},
   "outputs": [],
   "source": [
    "T = np.matmul(H,np.matmul(B,HT)) # 16 coefficient of energy required w.r.t the basis (don't call vis_blocks, which does outer product to it)"
   ]
  },
  {
   "cell_type": "markdown",
   "metadata": {},
   "source": [
    "### A. Viewing the transform coefficients in the matrix $\\mathbf{T}$, what are the row and column coords for the two largest coefficients (in absolute value)?"
   ]
  },
  {
   "cell_type": "code",
   "execution_count": 7,
   "metadata": {},
   "outputs": [
    {
     "data": {
      "application/vnd.jupyter.widget-view+json": {
       "model_id": "b296cc6ccef84508975f920f13ebb288",
       "version_major": 2,
       "version_minor": 0
      },
      "text/plain": [
       "Canvas(toolbar=Toolbar(toolitems=[('Home', 'Reset original view', 'home', 'home'), ('Back', 'Back to previous …"
      ]
     },
     "metadata": {},
     "output_type": "display_data"
    },
    {
     "data": {
      "text/plain": [
       "<matplotlib.image.AxesImage at 0x7f94ceb0afd0>"
      ]
     },
     "execution_count": 7,
     "metadata": {},
     "output_type": "execute_result"
    }
   ],
   "source": [
    "plt.figure()\n",
    "plt.imshow(T, cmap='gray')"
   ]
  },
  {
   "cell_type": "code",
   "execution_count": 8,
   "metadata": {},
   "outputs": [
    {
     "data": {
      "text/plain": [
       "array([[ 2.00000000e+00,  0.00000000e+00, -1.41421356e+00,\n",
       "         0.00000000e+00],\n",
       "       [ 0.00000000e+00,  0.00000000e+00,  0.00000000e+00,\n",
       "         0.00000000e+00],\n",
       "       [ 7.07106781e-01, -7.07106781e-01, -4.26642159e-17,\n",
       "         0.00000000e+00],\n",
       "       [ 7.07106781e-01, -7.07106781e-01, -4.26642159e-17,\n",
       "         0.00000000e+00]])"
      ]
     },
     "execution_count": 8,
     "metadata": {},
     "output_type": "execute_result"
    }
   ],
   "source": [
    "T"
   ]
  },
  {
   "cell_type": "code",
   "execution_count": 9,
   "metadata": {},
   "outputs": [
    {
     "data": {
      "text/plain": [
       "array([0])"
      ]
     },
     "execution_count": 9,
     "metadata": {},
     "output_type": "execute_result"
    }
   ],
   "source": [
    "i,j= np.where(T == T.max())\n",
    "i"
   ]
  },
  {
   "cell_type": "code",
   "execution_count": 10,
   "metadata": {},
   "outputs": [
    {
     "data": {
      "text/plain": [
       "0"
      ]
     },
     "execution_count": 10,
     "metadata": {},
     "output_type": "execute_result"
    }
   ],
   "source": [
    "int(i[0])"
   ]
  },
  {
   "cell_type": "code",
   "execution_count": 11,
   "metadata": {},
   "outputs": [],
   "source": [
    "sorted_coeff = np.sort(np.abs(T.ravel()))\n",
    "newT = T.copy()\n",
    "newT[np.abs(T) < sorted_coeff[-2]] = 0"
   ]
  },
  {
   "cell_type": "code",
   "execution_count": 12,
   "metadata": {},
   "outputs": [
    {
     "data": {
      "text/plain": [
       "array([[ 2.        ,  0.        , -1.41421356,  0.        ],\n",
       "       [ 0.        ,  0.        ,  0.        ,  0.        ],\n",
       "       [ 0.        ,  0.        ,  0.        ,  0.        ],\n",
       "       [ 0.        ,  0.        ,  0.        ,  0.        ]])"
      ]
     },
     "execution_count": 12,
     "metadata": {},
     "output_type": "execute_result"
    }
   ],
   "source": [
    "newT"
   ]
  },
  {
   "cell_type": "markdown",
   "metadata": {},
   "source": [
    "From the plot of the matrix T above we can tell the largest coefficients are 2 and -1.41 with coordinates (0,0) and (0,2) respectively."
   ]
  },
  {
   "cell_type": "markdown",
   "metadata": {},
   "source": [
    "### B. Show the two basis blocks corresponding to those two coefficients."
   ]
  },
  {
   "cell_type": "code",
   "execution_count": 13,
   "metadata": {},
   "outputs": [
    {
     "data": {
      "text/plain": [
       "((4, 4), dtype('float64'), -0.7071067811865476, 0.7071067811865476)"
      ]
     },
     "execution_count": 13,
     "metadata": {},
     "output_type": "execute_result"
    }
   ],
   "source": [
    "arr_info(H)"
   ]
  },
  {
   "cell_type": "code",
   "execution_count": 14,
   "metadata": {},
   "outputs": [],
   "source": [
    "Coef1 = np.outer(H[0],H[0])\n",
    "Coef2 = np.outer(H[0],H[2])"
   ]
  },
  {
   "cell_type": "code",
   "execution_count": 15,
   "metadata": {},
   "outputs": [
    {
     "data": {
      "application/vnd.jupyter.widget-view+json": {
       "model_id": "c356c598254448c0801393a449e11102",
       "version_major": 2,
       "version_minor": 0
      },
      "text/plain": [
       "Canvas(toolbar=Toolbar(toolitems=[('Home', 'Reset original view', 'home', 'home'), ('Back', 'Back to previous …"
      ]
     },
     "metadata": {},
     "output_type": "display_data"
    },
    {
     "data": {
      "text/plain": [
       "Text(0.5, 1.0, 'Basis block of Coefficient -1.41')"
      ]
     },
     "execution_count": 15,
     "metadata": {},
     "output_type": "execute_result"
    }
   ],
   "source": [
    "f, ax = plt.subplots(1, 2, figsize=(10,5))\n",
    "ax[0].imshow(Coef1, cmap='gray', vmin=Coef1.min(), vmax=Coef1.max())\n",
    "ax[0].set_title(\"Basis block of Coefficient 2\")\n",
    "ax[1].imshow(Coef2, cmap='gray', vmin=Coef2.min(), vmax=Coef2.max())\n",
    "ax[1].set_title(\"Basis block of Coefficient -1.41\")"
   ]
  },
  {
   "cell_type": "markdown",
   "metadata": {},
   "source": [
    "### C. Show and explain as explicitly as you can how the two coefficients are what they are."
   ]
  },
  {
   "cell_type": "markdown",
   "metadata": {},
   "source": [
    "In the original image, we can see that column 0 and column 1 are all pure consistent color blocks, intuitively they are probably made up of very few blocks in the basis matrix. Then it is easy to find that the block at $[0,2]$ is the only one of this pattern, although of opposite color. Thus it could be negative coefficients. Then from the right half of the image we observe that there are two horizontal white stripes that could be probably made up of the block at $[0,2]$ and $[0,3]$. Then in order to make the most left column consistent the coefficient of the complete black block would possibly be large."
   ]
  },
  {
   "cell_type": "markdown",
   "metadata": {},
   "source": [
    "### D. Show the reconstruction of the image $\\mathbf{B}$ using only those basis blocks/coefficients. \n",
    "Is this reconstruction trending in the right direction? Explain"
   ]
  },
  {
   "cell_type": "code",
   "execution_count": 16,
   "metadata": {},
   "outputs": [
    {
     "data": {
      "application/vnd.jupyter.widget-view+json": {
       "model_id": "585a485a4ce84010889ac5d4435fa2e2",
       "version_major": 2,
       "version_minor": 0
      },
      "text/plain": [
       "Canvas(toolbar=Toolbar(toolitems=[('Home', 'Reset original view', 'home', 'home'), ('Back', 'Back to previous …"
      ]
     },
     "metadata": {},
     "output_type": "display_data"
    },
    {
     "data": {
      "text/plain": [
       "<matplotlib.image.AxesImage at 0x7f94ce496d30>"
      ]
     },
     "execution_count": 16,
     "metadata": {},
     "output_type": "execute_result"
    }
   ],
   "source": [
    "# B = 2*B0 + -1.41*B1 + ... coefficients are observed in T\n",
    "plt.figure()\n",
    "plt.imshow(2*Coef1 - 1.41421356*Coef2, cmap='gray', vmin=0, vmax=1)"
   ]
  },
  {
   "cell_type": "markdown",
   "metadata": {},
   "source": [
    "Yes the pattern of the left half of the image has already match the original image. However since we are using only 2 coefficients while there are in total 16, the compression loss is huge and we can observe that the information on the right half of the original image is completely lost in this reconstruction."
   ]
  },
  {
   "cell_type": "markdown",
   "metadata": {},
   "source": [
    "## 2. Larger Image Block Transform and Reconstruction.\n",
    "Use the code in [`block_viewing_demo`](./block_viewing_demo.ipynb) and [`basis_decomp_64pix.ipynb`](./basis_decomp_64pix.ipynb) to perform a similar transform/compress/reconstruct sequence on a larger image of your choice. \n",
    "\n",
    "- Use $8\\times8$ blocks.\n",
    "- Use [`resize`](https://scikit-image.org/docs/dev/api/skimage.transform.html?highlight=resize#skimage.transform.resize) on the image you choose to ensure that $8$ evenly divides it in height and width. This is for convenience: compression schemes have other mechanisms to deal with odd-shaped images, which we will ignore here.\n",
    "- Perform reconstructions using the largest $[1,2,4,8,16]$ coefficients in absolute value per block. Note that keeping $16$ coefficients is equivalent to $\\sim 3$x compression. \n",
    "- For at least the reconstructions using $[2,4]$, use `vis_pair` and zoom into an area to observe the effectiveness of the reconstruction on such limit basis (32x, 16x compression).  \n",
    "\n",
    "You can **export this notebook** as a PDF to submit this work."
   ]
  },
  {
   "cell_type": "code",
   "execution_count": 17,
   "metadata": {},
   "outputs": [],
   "source": [
    "def Grid_fig(blocklist):\n",
    "    block_view = np.reshape(blocklist, [blocklist.shape[0]*blocklist.shape[1]] + list((8,8,3)))\n",
    "    I_block_grid = montage(block_view, grid_shape=blocklist.shape[:2], multichannel=True, padding_width=0, fill=[1,1,1])\n",
    "    return I_block_grid"
   ]
  },
  {
   "cell_type": "code",
   "execution_count": 39,
   "metadata": {},
   "outputs": [
    {
     "data": {
      "application/vnd.jupyter.widget-view+json": {
       "model_id": "6101fb5a57e54a088bbd137e0b069c8e",
       "version_major": 2,
       "version_minor": 0
      },
      "text/plain": [
       "Canvas(toolbar=Toolbar(toolitems=[('Home', 'Reset original view', 'home', 'home'), ('Back', 'Back to previous …"
      ]
     },
     "metadata": {},
     "output_type": "display_data"
    }
   ],
   "source": [
    "I = plt.imread('../dip_pics/cat_small.png')\n",
    "I = I[...,:3]\n",
    "vis_hists(I)"
   ]
  },
  {
   "cell_type": "code",
   "execution_count": 40,
   "metadata": {},
   "outputs": [
    {
     "data": {
      "application/vnd.jupyter.widget-view+json": {
       "model_id": "7cc66b9c503b455f8d880d383791ca95",
       "version_major": 2,
       "version_minor": 0
      },
      "text/plain": [
       "Canvas(toolbar=Toolbar(toolitems=[('Home', 'Reset original view', 'home', 'home'), ('Back', 'Back to previous …"
      ]
     },
     "metadata": {},
     "output_type": "display_data"
    }
   ],
   "source": [
    "H2 = make_haar_matrix(8)\n",
    "vis_blocks(H2)"
   ]
  },
  {
   "cell_type": "code",
   "execution_count": 41,
   "metadata": {},
   "outputs": [
    {
     "data": {
      "text/plain": [
       "((64, 64, 1, 8, 8, 3), dtype('float32'), 0.0, 0.9882353)"
      ]
     },
     "execution_count": 41,
     "metadata": {},
     "output_type": "execute_result"
    }
   ],
   "source": [
    "block_shape = (8,8,3)\n",
    "Blocks = view_as_blocks(I, block_shape) # list of original images\n",
    "arr_info(Blocks)"
   ]
  },
  {
   "cell_type": "code",
   "execution_count": 42,
   "metadata": {},
   "outputs": [],
   "source": [
    "# Generate the list of Coefficeint Matrices named Transforms\n",
    "Transforms = Blocks.copy()\n",
    "for i in range(len(Blocks)):\n",
    "    for chan in range(3):\n",
    "        Transforms[i][...,chan] = np.matmul(H2, np.matmul(Blocks[i][...,chan].copy(), H2.transpose()))"
   ]
  },
  {
   "cell_type": "code",
   "execution_count": 43,
   "metadata": {},
   "outputs": [],
   "source": [
    "# Reconstruction -- Do Nothing\n",
    "Recons = Transforms.copy()\n",
    "for i in range(len(Blocks)):\n",
    "    for chan in range(3):\n",
    "        Recons[i][...,chan] = np.matmul(H2.transpose(), np.matmul(Transforms[i][...,chan].copy(), H2))"
   ]
  },
  {
   "cell_type": "code",
   "execution_count": 44,
   "metadata": {},
   "outputs": [
    {
     "data": {
      "application/vnd.jupyter.widget-view+json": {
       "model_id": "0d968562a2f24836b49356ea8e0e5266",
       "version_major": 2,
       "version_minor": 0
      },
      "text/plain": [
       "Canvas(toolbar=Toolbar(toolitems=[('Home', 'Reset original view', 'home', 'home'), ('Back', 'Back to previous …"
      ]
     },
     "metadata": {},
     "output_type": "display_data"
    },
    {
     "data": {
      "text/plain": [
       "Text(0.5, 1.0, 'Reconstructed Image - No loss')"
      ]
     },
     "execution_count": 44,
     "metadata": {},
     "output_type": "execute_result"
    }
   ],
   "source": [
    "f, ax = plt.subplots(1, 2, figsize=(10,5))\n",
    "ax[0].imshow(I)\n",
    "ax[0].set_title(\"Original Image\")\n",
    "ax[1].imshow(np.clip(Grid_fig(Recons),0.0,1.0))\n",
    "ax[1].set_title(\"Reconstructed Image - No loss\")"
   ]
  },
  {
   "cell_type": "markdown",
   "metadata": {},
   "source": [
    "## Lossy Compression -- Using largest $[1,2,4,8,16]$ coefficients"
   ]
  },
  {
   "cell_type": "code",
   "execution_count": 45,
   "metadata": {},
   "outputs": [],
   "source": [
    "def n_coeff_reconstruct(num,Haar,Transforms):\n",
    "    Reconstruct = Transforms.copy()\n",
    "    for i in range(len(Transforms)):\n",
    "        for j in range(len(Transforms)):\n",
    "            temp = Transforms[i][j].copy()\n",
    "            for chan in range(3):\n",
    "                sorted_coeff = np.sort(np.abs(temp[...,chan].ravel()))\n",
    "                newT = temp\n",
    "                newT[np.abs(temp) < sorted_coeff[-num]] = 0\n",
    "                Reconstruct[i][j][...,chan] = np.matmul(Haar.transpose(), np.matmul(newT[...,chan], Haar))\n",
    "    return np.clip(Reconstruct,0.0,1.0)"
   ]
  },
  {
   "cell_type": "code",
   "execution_count": 46,
   "metadata": {},
   "outputs": [],
   "source": [
    "ReconCoef1 = n_coeff_reconstruct(1,H2,Transforms)\n",
    "ReconCoef2 = n_coeff_reconstruct(2,H2,Transforms)\n",
    "ReconCoef4 = n_coeff_reconstruct(4,H2,Transforms)\n",
    "ReconCoef8 = n_coeff_reconstruct(8,H2,Transforms)\n",
    "ReconCoef16 = n_coeff_reconstruct(16,H2,Transforms)"
   ]
  },
  {
   "cell_type": "code",
   "execution_count": 48,
   "metadata": {},
   "outputs": [
    {
     "data": {
      "application/vnd.jupyter.widget-view+json": {
       "model_id": "4c8b2593f90a431aae16488453587ae0",
       "version_major": 2,
       "version_minor": 0
      },
      "text/plain": [
       "Canvas(toolbar=Toolbar(toolitems=[('Home', 'Reset original view', 'home', 'home'), ('Back', 'Back to previous …"
      ]
     },
     "metadata": {},
     "output_type": "display_data"
    },
    {
     "data": {
      "text/plain": [
       "Text(0.5, 1.0, 'Reconstructed Image - Use 16 Coefficients')"
      ]
     },
     "execution_count": 48,
     "metadata": {},
     "output_type": "execute_result"
    }
   ],
   "source": [
    "f, ax = plt.subplots(2, 2, figsize=(10,10))\n",
    "ax[0][0].imshow(I[250:300,275:325,:])\n",
    "ax[0][0].set_title(\"Original Image\")\n",
    "ax[0][1].imshow(Grid_fig(ReconCoef2)[250:300,275:325,:])\n",
    "ax[0][1].set_title(\"Reconstructed Image - Use 2 Coefficients\")\n",
    "ax[1][0].imshow(Grid_fig(ReconCoef4)[250:300,275:325,:])\n",
    "ax[1][0].set_title(\"Reconstructed Image - Use 4 Coefficients\")\n",
    "ax[1][1].imshow(Grid_fig(ReconCoef16)[250:300,275:325,:])\n",
    "ax[1][1].set_title(\"Reconstructed Image - Use 16 Coefficients\")"
   ]
  },
  {
   "cell_type": "markdown",
   "metadata": {},
   "source": [
    "When zooming in it is obvious that with fewer coefficients being used(higher compression ratio) the details of the image becomes less sharp. And when we are using fewer basises for reconstruction, the individual pixels in each $8 \\times 8$ blocks become hard to distinguish, instead those blocks are filled with smaller color patterns, and with less coefficients this phenomenom becomes more obvious."
   ]
  },
  {
   "cell_type": "code",
   "execution_count": null,
   "metadata": {},
   "outputs": [],
   "source": []
  }
 ],
 "metadata": {
  "kernelspec": {
   "display_name": "Python 3",
   "language": "python",
   "name": "python3"
  },
  "language_info": {
   "codemirror_mode": {
    "name": "ipython",
    "version": 3
   },
   "file_extension": ".py",
   "mimetype": "text/x-python",
   "name": "python",
   "nbconvert_exporter": "python",
   "pygments_lexer": "ipython3",
   "version": "3.7.3"
  }
 },
 "nbformat": 4,
 "nbformat_minor": 4
}
